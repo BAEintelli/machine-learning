{
 "cells": [
  {
   "cell_type": "code",
   "execution_count": 20,
   "metadata": {},
   "outputs": [],
   "source": [
    "import numpy as np\n",
    "import math\n",
    "\n",
    "UNCLASSIFIED = False\n",
    "NOISE = None\n",
    "\n",
    "#def _dist(p,q):\n",
    "    #return math.sqrt(np.power(p-q,2).sum())\n",
    "\n",
    "def _eps_neighborhood(p,q,eps):\n",
    "    return np.abs(p-q) < eps\n",
    "\n",
    "def _region_query(m, point_id, eps):\n",
    "    n_points = m.shape[1]\n",
    "    seeds = []\n",
    "    for i in range(0, n_points):\n",
    "        if _eps_neighborhood(m[:,point_id], m[:,i], eps):\n",
    "            seeds.append(i)\n",
    "    return seeds\n",
    "\n",
    "def _expand_cluster(m, classifications, point_id, cluster_id, eps, min_points):\n",
    "    seeds = _region_query(m, point_id, eps)\n",
    "    if len(seeds) < min_points:\n",
    "        classifications[point_id] = NOISE\n",
    "        return False\n",
    "    else:\n",
    "        classifications[point_id] = cluster_id\n",
    "        for seed_id in seeds:\n",
    "            classifications[seed_id] = cluster_id\n",
    "            \n",
    "        while len(seeds) > 0:\n",
    "            current_point = seeds[0]\n",
    "            results = _region_query(m, current_point, eps)\n",
    "            if len(results) >= min_points:\n",
    "                for i in range(0, len(results)):\n",
    "                    result_point = results[i]\n",
    "                    if classifications[result_point] == UNCLASSIFIED or \\\n",
    "                       classifications[result_point] == NOISE:\n",
    "                        if classifications[result_point] == UNCLASSIFIED:\n",
    "                            seeds.append(result_point)\n",
    "                        classifications[result_point] = cluster_id\n",
    "            seeds = seeds[1:]\n",
    "        return True\n",
    "        \n",
    "def dbscan(m, eps, min_points):\n",
    "    \"\"\"Implementation of Density Based Spatial Clustering of Applications with Noise\n",
    "    See https://en.wikipedia.org/wiki/DBSCAN\n",
    "    \n",
    "    scikit-learn probably has a better implementation\n",
    "    \n",
    "    Uses Euclidean Distance as the measure\n",
    "    \n",
    "    Inputs:\n",
    "    m - A matrix whose columns are feature vectors\n",
    "    eps - Maximum distance two points can be to be regionally related\n",
    "    min_points - The minimum number of points to make a cluster\n",
    "    \n",
    "    Outputs:\n",
    "    An array with either a cluster id number or dbscan.NOISE (None) for each\n",
    "    column vector in m.\n",
    "    \"\"\"\n",
    "    cluster_id = 1\n",
    "    n_points = m.shape[1]\n",
    "    classifications = [UNCLASSIFIED] * n_points\n",
    "    for point_id in range(0, n_points):\n",
    "        point = m[:,point_id]\n",
    "        if classifications[point_id] == UNCLASSIFIED:\n",
    "            if _expand_cluster(m, classifications, point_id, cluster_id, eps, min_points):\n",
    "                cluster_id = cluster_id + 1\n",
    "    return classifications\n",
    "\n"
   ]
  },
  {
   "cell_type": "code",
   "execution_count": 21,
   "metadata": {},
   "outputs": [
    {
     "data": {
      "text/plain": [
       "[1, 1, 1, 2, 2, 2, 3]"
      ]
     },
     "execution_count": 21,
     "metadata": {},
     "output_type": "execute_result"
    }
   ],
   "source": [
    "dbscan(m , 0.5, 1)"
   ]
  }
 ],
 "metadata": {
  "kernelspec": {
   "display_name": "Python 3",
   "language": "python",
   "name": "python3"
  },
  "language_info": {
   "codemirror_mode": {
    "name": "ipython",
    "version": 3
   },
   "file_extension": ".py",
   "mimetype": "text/x-python",
   "name": "python",
   "nbconvert_exporter": "python",
   "pygments_lexer": "ipython3",
   "version": "3.7.4"
  }
 },
 "nbformat": 4,
 "nbformat_minor": 2
}
