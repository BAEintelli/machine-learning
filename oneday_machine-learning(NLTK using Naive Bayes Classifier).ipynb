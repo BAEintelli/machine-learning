{
 "cells": [
  {
   "cell_type": "markdown",
   "metadata": {},
   "source": [
    "### Naive Bayes Classifier"
   ]
  },
  {
   "cell_type": "code",
   "execution_count": 1,
   "metadata": {},
   "outputs": [],
   "source": [
    "from nltk.tokenize import word_tokenize\n",
    "import nltk"
   ]
  },
  {
   "cell_type": "markdown",
   "metadata": {},
   "source": [
    "### tokenize"
   ]
  },
  {
   "cell_type": "code",
   "execution_count": 24,
   "metadata": {},
   "outputs": [],
   "source": [
    "train = [('i like you', 'pos'),\n",
    "        ('i hate you', 'neg'),\n",
    "        ('you like me', 'neg'),\n",
    "        ('i like her', 'pos')]\n"
   ]
  },
  {
   "cell_type": "markdown",
   "metadata": {},
   "source": [
    "### 전체 말뭉치"
   ]
  },
  {
   "cell_type": "code",
   "execution_count": 25,
   "metadata": {},
   "outputs": [
    {
     "data": {
      "text/plain": [
       "{'hate', 'her', 'i', 'like', 'me', 'you'}"
      ]
     },
     "execution_count": 25,
     "metadata": {},
     "output_type": "execute_result"
    }
   ],
   "source": [
    "all_words = set(word.lower() for sentence in train for word in word_tokenize(sentence[0]))\n",
    "all_words"
   ]
  },
  {
   "cell_type": "markdown",
   "metadata": {},
   "source": [
    "### 훈련용 데이터에 마킹"
   ]
  },
  {
   "cell_type": "code",
   "execution_count": 26,
   "metadata": {},
   "outputs": [
    {
     "data": {
      "text/plain": [
       "[({'i': True,\n",
       "   'hate': False,\n",
       "   'her': False,\n",
       "   'you': True,\n",
       "   'like': True,\n",
       "   'me': False},\n",
       "  'pos'),\n",
       " ({'i': True,\n",
       "   'hate': True,\n",
       "   'her': False,\n",
       "   'you': True,\n",
       "   'like': False,\n",
       "   'me': False},\n",
       "  'neg'),\n",
       " ({'i': False,\n",
       "   'hate': False,\n",
       "   'her': False,\n",
       "   'you': True,\n",
       "   'like': True,\n",
       "   'me': True},\n",
       "  'neg'),\n",
       " ({'i': True,\n",
       "   'hate': False,\n",
       "   'her': True,\n",
       "   'you': False,\n",
       "   'like': True,\n",
       "   'me': False},\n",
       "  'pos')]"
      ]
     },
     "execution_count": 26,
     "metadata": {},
     "output_type": "execute_result"
    }
   ],
   "source": [
    "t = [({word: (word in word_tokenize(x[0])) for word in all_words}, x[1]) for x in train]\n",
    "\n",
    "t"
   ]
  },
  {
   "cell_type": "markdown",
   "metadata": {},
   "source": [
    "### Naive Bayes Classifier"
   ]
  },
  {
   "cell_type": "code",
   "execution_count": 27,
   "metadata": {},
   "outputs": [
    {
     "name": "stdout",
     "output_type": "stream",
     "text": [
      "Most Informative Features\n",
      "                       i = True              pos : neg    =      1.7 : 1.0\n",
      "                     her = False             neg : pos    =      1.7 : 1.0\n",
      "                     you = True              neg : pos    =      1.7 : 1.0\n",
      "                    like = True              pos : neg    =      1.7 : 1.0\n",
      "                      me = False             pos : neg    =      1.7 : 1.0\n",
      "                    hate = False             pos : neg    =      1.7 : 1.0\n"
     ]
    }
   ],
   "source": [
    "classifier = nltk.NaiveBayesClassifier.train(t)\n",
    "classifier.show_most_informative_features()"
   ]
  },
  {
   "cell_type": "markdown",
   "metadata": {},
   "source": [
    "### test 문장 입력"
   ]
  },
  {
   "cell_type": "code",
   "execution_count": 28,
   "metadata": {},
   "outputs": [
    {
     "data": {
      "text/plain": [
       "{'i': True,\n",
       " 'hate': False,\n",
       " 'her': False,\n",
       " 'you': False,\n",
       " 'like': True,\n",
       " 'me': False}"
      ]
     },
     "execution_count": 28,
     "metadata": {},
     "output_type": "execute_result"
    }
   ],
   "source": [
    "test_sentence = 'I like MeRui'\n",
    "test_sent_features = {word.lower(): word in word_tokenize(test_sentence.lower()) for word in all_words}\n",
    "\n",
    "test_sent_features"
   ]
  },
  {
   "cell_type": "markdown",
   "metadata": {},
   "source": [
    "### 분류결과"
   ]
  },
  {
   "cell_type": "code",
   "execution_count": 29,
   "metadata": {},
   "outputs": [
    {
     "data": {
      "text/plain": [
       "'pos'"
      ]
     },
     "execution_count": 29,
     "metadata": {},
     "output_type": "execute_result"
    }
   ],
   "source": [
    "classifier.classify(test_sent_features)"
   ]
  },
  {
   "cell_type": "markdown",
   "metadata": {},
   "source": [
    "### 한글에서 Naive Bayes Classifier 연습"
   ]
  },
  {
   "cell_type": "code",
   "execution_count": 7,
   "metadata": {},
   "outputs": [],
   "source": [
    "from konlpy.tag import Okt"
   ]
  },
  {
   "cell_type": "code",
   "execution_count": 8,
   "metadata": {},
   "outputs": [],
   "source": [
    "pos_tagger = Okt()"
   ]
  },
  {
   "cell_type": "markdown",
   "metadata": {},
   "source": [
    "### 훈련용 문장"
   ]
  },
  {
   "cell_type": "code",
   "execution_count": 9,
   "metadata": {},
   "outputs": [],
   "source": [
    "train = [('난 수업이 빨리 마치면 좋겠어', 'pos'),\n",
    "        ('내일은 수업이 없어서 좋아', 'pos'),\n",
    "        ('내일은 수업이 없어서 좋아', 'pos'),\n",
    "        ('오늘 수업은 정말 지루해', 'neg'),\n",
    "        ('수업은 아직 시작도 안했어', 'neg'),\n",
    "        ('나는 왜 이런걸 해야하는지 모르겠어', 'neg')]"
   ]
  },
  {
   "cell_type": "markdown",
   "metadata": {},
   "source": [
    "### 형태소 분석"
   ]
  },
  {
   "cell_type": "code",
   "execution_count": 10,
   "metadata": {},
   "outputs": [
    {
     "data": {
      "text/plain": [
       "[('난', 'Noun'),\n",
       " ('수업', 'Noun'),\n",
       " ('이', 'Josa'),\n",
       " ('빨리', 'Adverb'),\n",
       " ('마치', 'Noun'),\n",
       " ('면', 'Josa'),\n",
       " ('좋겠어', 'Adjective')]"
      ]
     },
     "execution_count": 10,
     "metadata": {},
     "output_type": "execute_result"
    }
   ],
   "source": [
    "pos_tagger.pos(train[0][0])"
   ]
  },
  {
   "cell_type": "markdown",
   "metadata": {},
   "source": [
    " - 실제로는 태그가 붙어 있는 상태에서 사용하는 것이 좋다"
   ]
  },
  {
   "cell_type": "markdown",
   "metadata": {},
   "source": [
    "### 훈련용 데이터 형태소 분서"
   ]
  },
  {
   "cell_type": "code",
   "execution_count": 11,
   "metadata": {},
   "outputs": [
    {
     "data": {
      "text/plain": [
       "[(['난', '수업', '이', '빨리', '마치', '면', '좋겠어'], 'pos'),\n",
       " (['내일', '은', '수업', '이', '없어서', '좋아'], 'pos'),\n",
       " (['내일', '은', '수업', '이', '없어서', '좋아'], 'pos'),\n",
       " (['오늘', '수업', '은', '정말', '지루해'], 'neg'),\n",
       " (['수업', '은', '아직', '시작', '도', '안', '했어'], 'neg'),\n",
       " (['나', '는', '왜', '이런', '걸', '해야하는지', '모르겠어'], 'neg')]"
      ]
     },
     "execution_count": 11,
     "metadata": {},
     "output_type": "execute_result"
    }
   ],
   "source": [
    "train_docs = [(pos_tagger.morphs(sentence[0]), sentence[1]) for sentence in train]\n",
    "train_docs"
   ]
  },
  {
   "cell_type": "markdown",
   "metadata": {},
   "source": [
    "### 말뭉치 만들기"
   ]
  },
  {
   "cell_type": "code",
   "execution_count": 12,
   "metadata": {},
   "outputs": [
    {
     "data": {
      "text/plain": [
       "{'걸',\n",
       " '나',\n",
       " '난',\n",
       " '내일',\n",
       " '는',\n",
       " '도',\n",
       " '마치',\n",
       " '면',\n",
       " '모르겠어',\n",
       " '빨리',\n",
       " '수업',\n",
       " '시작',\n",
       " '아직',\n",
       " '안',\n",
       " '없어서',\n",
       " '오늘',\n",
       " '왜',\n",
       " '은',\n",
       " '이',\n",
       " '이런',\n",
       " '정말',\n",
       " '좋겠어',\n",
       " '좋아',\n",
       " '지루해',\n",
       " '해야하는지',\n",
       " '했어'}"
      ]
     },
     "execution_count": 12,
     "metadata": {},
     "output_type": "execute_result"
    }
   ],
   "source": [
    "all_words = set([t for d in train_docs for t in d[0]])\n",
    "all_words"
   ]
  },
  {
   "cell_type": "markdown",
   "metadata": {},
   "source": [
    "### 말뭉치 안에 있는지 없는지 확인하기"
   ]
  },
  {
   "cell_type": "code",
   "execution_count": 13,
   "metadata": {},
   "outputs": [],
   "source": [
    "def term_exists(doc):\n",
    "    return {word: (word in  set(doc)) for word in all_words}"
   ]
  },
  {
   "cell_type": "code",
   "execution_count": 14,
   "metadata": {},
   "outputs": [
    {
     "data": {
      "text/plain": [
       "[({'마치': True,\n",
       "   '왜': False,\n",
       "   '시작': False,\n",
       "   '모르겠어': False,\n",
       "   '도': False,\n",
       "   '수업': True,\n",
       "   '정말': False,\n",
       "   '아직': False,\n",
       "   '좋겠어': True,\n",
       "   '안': False,\n",
       "   '해야하는지': False,\n",
       "   '이런': False,\n",
       "   '은': False,\n",
       "   '나': False,\n",
       "   '는': False,\n",
       "   '빨리': True,\n",
       "   '걸': False,\n",
       "   '면': True,\n",
       "   '이': True,\n",
       "   '난': True,\n",
       "   '내일': False,\n",
       "   '지루해': False,\n",
       "   '했어': False,\n",
       "   '좋아': False,\n",
       "   '오늘': False,\n",
       "   '없어서': False},\n",
       "  'pos'),\n",
       " ({'마치': False,\n",
       "   '왜': False,\n",
       "   '시작': False,\n",
       "   '모르겠어': False,\n",
       "   '도': False,\n",
       "   '수업': True,\n",
       "   '정말': False,\n",
       "   '아직': False,\n",
       "   '좋겠어': False,\n",
       "   '안': False,\n",
       "   '해야하는지': False,\n",
       "   '이런': False,\n",
       "   '은': True,\n",
       "   '나': False,\n",
       "   '는': False,\n",
       "   '빨리': False,\n",
       "   '걸': False,\n",
       "   '면': False,\n",
       "   '이': True,\n",
       "   '난': False,\n",
       "   '내일': True,\n",
       "   '지루해': False,\n",
       "   '했어': False,\n",
       "   '좋아': True,\n",
       "   '오늘': False,\n",
       "   '없어서': True},\n",
       "  'pos'),\n",
       " ({'마치': False,\n",
       "   '왜': False,\n",
       "   '시작': False,\n",
       "   '모르겠어': False,\n",
       "   '도': False,\n",
       "   '수업': True,\n",
       "   '정말': False,\n",
       "   '아직': False,\n",
       "   '좋겠어': False,\n",
       "   '안': False,\n",
       "   '해야하는지': False,\n",
       "   '이런': False,\n",
       "   '은': True,\n",
       "   '나': False,\n",
       "   '는': False,\n",
       "   '빨리': False,\n",
       "   '걸': False,\n",
       "   '면': False,\n",
       "   '이': True,\n",
       "   '난': False,\n",
       "   '내일': True,\n",
       "   '지루해': False,\n",
       "   '했어': False,\n",
       "   '좋아': True,\n",
       "   '오늘': False,\n",
       "   '없어서': True},\n",
       "  'pos'),\n",
       " ({'마치': False,\n",
       "   '왜': False,\n",
       "   '시작': False,\n",
       "   '모르겠어': False,\n",
       "   '도': False,\n",
       "   '수업': True,\n",
       "   '정말': True,\n",
       "   '아직': False,\n",
       "   '좋겠어': False,\n",
       "   '안': False,\n",
       "   '해야하는지': False,\n",
       "   '이런': False,\n",
       "   '은': True,\n",
       "   '나': False,\n",
       "   '는': False,\n",
       "   '빨리': False,\n",
       "   '걸': False,\n",
       "   '면': False,\n",
       "   '이': False,\n",
       "   '난': False,\n",
       "   '내일': False,\n",
       "   '지루해': True,\n",
       "   '했어': False,\n",
       "   '좋아': False,\n",
       "   '오늘': True,\n",
       "   '없어서': False},\n",
       "  'neg'),\n",
       " ({'마치': False,\n",
       "   '왜': False,\n",
       "   '시작': True,\n",
       "   '모르겠어': False,\n",
       "   '도': True,\n",
       "   '수업': True,\n",
       "   '정말': False,\n",
       "   '아직': True,\n",
       "   '좋겠어': False,\n",
       "   '안': True,\n",
       "   '해야하는지': False,\n",
       "   '이런': False,\n",
       "   '은': True,\n",
       "   '나': False,\n",
       "   '는': False,\n",
       "   '빨리': False,\n",
       "   '걸': False,\n",
       "   '면': False,\n",
       "   '이': False,\n",
       "   '난': False,\n",
       "   '내일': False,\n",
       "   '지루해': False,\n",
       "   '했어': True,\n",
       "   '좋아': False,\n",
       "   '오늘': False,\n",
       "   '없어서': False},\n",
       "  'neg'),\n",
       " ({'마치': False,\n",
       "   '왜': True,\n",
       "   '시작': False,\n",
       "   '모르겠어': True,\n",
       "   '도': False,\n",
       "   '수업': False,\n",
       "   '정말': False,\n",
       "   '아직': False,\n",
       "   '좋겠어': False,\n",
       "   '안': False,\n",
       "   '해야하는지': True,\n",
       "   '이런': True,\n",
       "   '은': False,\n",
       "   '나': True,\n",
       "   '는': True,\n",
       "   '빨리': False,\n",
       "   '걸': True,\n",
       "   '면': False,\n",
       "   '이': False,\n",
       "   '난': False,\n",
       "   '내일': False,\n",
       "   '지루해': False,\n",
       "   '했어': False,\n",
       "   '좋아': False,\n",
       "   '오늘': False,\n",
       "   '없어서': False},\n",
       "  'neg')]"
      ]
     },
     "execution_count": 14,
     "metadata": {},
     "output_type": "execute_result"
    }
   ],
   "source": [
    "train_xy = [(term_exists(d), c) for d,c in train_docs]\n",
    "train_xy"
   ]
  },
  {
   "cell_type": "markdown",
   "metadata": {},
   "source": [
    "### Naive Bayes 훈련"
   ]
  },
  {
   "cell_type": "code",
   "execution_count": 15,
   "metadata": {},
   "outputs": [
    {
     "name": "stdout",
     "output_type": "stream",
     "text": [
      "Most Informative Features\n",
      "                      내일 = False             neg : pos    =      2.3 : 1.0\n",
      "                     없어서 = False             neg : pos    =      2.3 : 1.0\n",
      "                      좋아 = False             neg : pos    =      2.3 : 1.0\n",
      "                   해야하는지 = False             pos : neg    =      1.4 : 1.0\n",
      "                       도 = False             pos : neg    =      1.4 : 1.0\n",
      "                      했어 = False             pos : neg    =      1.4 : 1.0\n",
      "                      아직 = False             pos : neg    =      1.4 : 1.0\n",
      "                      빨리 = False             neg : pos    =      1.4 : 1.0\n",
      "                      시작 = False             pos : neg    =      1.4 : 1.0\n",
      "                    모르겠어 = False             pos : neg    =      1.4 : 1.0\n"
     ]
    }
   ],
   "source": [
    "classifier = nltk.NaiveBayesClassifier.train(train_xy)\n",
    "classifier.show_most_informative_features()"
   ]
  },
  {
   "cell_type": "markdown",
   "metadata": {},
   "source": [
    "### 테스트 문장"
   ]
  },
  {
   "cell_type": "code",
   "execution_count": 16,
   "metadata": {},
   "outputs": [],
   "source": [
    "test_sentence = '수업 마치면 놀러 가야지'\n"
   ]
  },
  {
   "cell_type": "code",
   "execution_count": 17,
   "metadata": {},
   "outputs": [
    {
     "data": {
      "text/plain": [
       "['수업', '마치', '면', '놀러', '가야', '지']"
      ]
     },
     "execution_count": 17,
     "metadata": {},
     "output_type": "execute_result"
    }
   ],
   "source": [
    "test_docs = pos_tagger.morphs(test_sentence)\n",
    "test_docs"
   ]
  },
  {
   "cell_type": "code",
   "execution_count": 18,
   "metadata": {},
   "outputs": [
    {
     "data": {
      "text/plain": [
       "{'마치': True,\n",
       " '왜': False,\n",
       " '시작': False,\n",
       " '모르겠어': False,\n",
       " '도': False,\n",
       " '수업': True,\n",
       " '정말': False,\n",
       " '아직': False,\n",
       " '좋겠어': False,\n",
       " '안': False,\n",
       " '해야하는지': False,\n",
       " '이런': False,\n",
       " '은': False,\n",
       " '나': False,\n",
       " '는': False,\n",
       " '빨리': False,\n",
       " '걸': False,\n",
       " '면': True,\n",
       " '이': False,\n",
       " '난': False,\n",
       " '내일': False,\n",
       " '지루해': False,\n",
       " '했어': False,\n",
       " '좋아': False,\n",
       " '오늘': False,\n",
       " '없어서': False}"
      ]
     },
     "execution_count": 18,
     "metadata": {},
     "output_type": "execute_result"
    }
   ],
   "source": [
    "test_xy = term_exists(test_docs)\n",
    "test_xy"
   ]
  },
  {
   "cell_type": "code",
   "execution_count": 19,
   "metadata": {},
   "outputs": [
    {
     "data": {
      "text/plain": [
       "'pos'"
      ]
     },
     "execution_count": 19,
     "metadata": {},
     "output_type": "execute_result"
    }
   ],
   "source": [
    "classifier.classify(test_xy)"
   ]
  },
  {
   "cell_type": "markdown",
   "metadata": {},
   "source": [
    "### 테스트"
   ]
  },
  {
   "cell_type": "code",
   "execution_count": 20,
   "metadata": {},
   "outputs": [
    {
     "data": {
      "text/plain": [
       "'neg'"
      ]
     },
     "execution_count": 20,
     "metadata": {},
     "output_type": "execute_result"
    }
   ],
   "source": [
    "test_sentence = '오늘은 언제 수업 마칠려나'\n",
    "classifier.classify(term_exists(pos_tagger.morphs(test_sentence)))\n"
   ]
  },
  {
   "cell_type": "code",
   "execution_count": 21,
   "metadata": {},
   "outputs": [
    {
     "data": {
      "text/plain": [
       "'neg'"
      ]
     },
     "execution_count": 21,
     "metadata": {},
     "output_type": "execute_result"
    }
   ],
   "source": [
    "test_sentence = '오늘 수업 마칠려나'\n",
    "classifier.classify(term_exists(pos_tagger.morphs(test_sentence)))\n"
   ]
  },
  {
   "cell_type": "code",
   "execution_count": 22,
   "metadata": {},
   "outputs": [
    {
     "data": {
      "text/plain": [
       "'pos'"
      ]
     },
     "execution_count": 22,
     "metadata": {},
     "output_type": "execute_result"
    }
   ],
   "source": [
    "test_sentence = '오늘 수업 마치고 일어나면 내일이다'\n",
    "classifier.classify(term_exists(pos_tagger.morphs(test_sentence)))\n"
   ]
  },
  {
   "cell_type": "code",
   "execution_count": null,
   "metadata": {},
   "outputs": [],
   "source": []
  }
 ],
 "metadata": {
  "kernelspec": {
   "display_name": "Python 3",
   "language": "python",
   "name": "python3"
  },
  "language_info": {
   "codemirror_mode": {
    "name": "ipython",
    "version": 3
   },
   "file_extension": ".py",
   "mimetype": "text/x-python",
   "name": "python",
   "nbconvert_exporter": "python",
   "pygments_lexer": "ipython3",
   "version": "3.7.4"
  }
 },
 "nbformat": 4,
 "nbformat_minor": 2
}
