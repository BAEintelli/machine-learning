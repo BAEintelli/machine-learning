{
 "cells": [
  {
   "cell_type": "markdown",
   "metadata": {},
   "source": [
    "### Distance of Sentences"
   ]
  },
  {
   "cell_type": "code",
   "execution_count": 2,
   "metadata": {},
   "outputs": [],
   "source": [
    "from sklearn.feature_extraction.text import CountVectorizer\n",
    "\n",
    "\n"
   ]
  },
  {
   "cell_type": "code",
   "execution_count": 3,
   "metadata": {},
   "outputs": [],
   "source": [
    "vectorizer = CountVectorizer(min_df = 1)"
   ]
  },
  {
   "cell_type": "code",
   "execution_count": 4,
   "metadata": {},
   "outputs": [],
   "source": [
    "contents = ['상처받은 아이들은 너무 일찍 커버려',\n",
    "           '내가 상처받은 거 아는 사람 불편해',\n",
    "           '잘 사는 사람들은 좋은 사람 되기 쉬워',\n",
    "           '아무 일도 아니야 괜찮아']\n"
   ]
  },
  {
   "cell_type": "code",
   "execution_count": 5,
   "metadata": {},
   "outputs": [],
   "source": [
    "from konlpy.tag import Okt\n",
    "t = Okt()"
   ]
  },
  {
   "cell_type": "markdown",
   "metadata": {},
   "source": [
    "### 형태소 분석"
   ]
  },
  {
   "cell_type": "code",
   "execution_count": 6,
   "metadata": {},
   "outputs": [
    {
     "data": {
      "text/plain": [
       "[['상처', '받은', '아이', '들', '은', '너무', '일찍', '커버', '려'],\n",
       " ['내', '가', '상처', '받은', '거', '아는', '사람', '불편해'],\n",
       " ['잘', '사는', '사람', '들', '은', '좋은', '사람', '되기', '쉬워'],\n",
       " ['아무', '일도', '아니야', '괜찮아']]"
      ]
     },
     "execution_count": 6,
     "metadata": {},
     "output_type": "execute_result"
    }
   ],
   "source": [
    "contents_tokens = [t.morphs(row) for row in contents]\n",
    "contents_tokens"
   ]
  },
  {
   "cell_type": "markdown",
   "metadata": {},
   "source": [
    "### 형태소 분석된 결과를 다시 하나의 문장씩으로 합친다"
   ]
  },
  {
   "cell_type": "code",
   "execution_count": 7,
   "metadata": {},
   "outputs": [
    {
     "data": {
      "text/plain": [
       "[' 상처 받은 아이 들 은 너무 일찍 커버 려',\n",
       " ' 내 가 상처 받은 거 아는 사람 불편해',\n",
       " ' 잘 사는 사람 들 은 좋은 사람 되기 쉬워',\n",
       " ' 아무 일도 아니야 괜찮아']"
      ]
     },
     "execution_count": 7,
     "metadata": {},
     "output_type": "execute_result"
    }
   ],
   "source": [
    "contents_for_vectorize = []\n",
    "\n",
    "for content in contents_tokens:\n",
    "    sentence = ''\n",
    "    for word in content:\n",
    "        sentence = sentence + ' ' + word\n",
    "        \n",
    "    contents_for_vectorize.append(sentence)\n",
    "    \n",
    "contents_for_vectorize"
   ]
  },
  {
   "cell_type": "markdown",
   "metadata": {},
   "source": [
    "### 벡터라이즈"
   ]
  },
  {
   "cell_type": "code",
   "execution_count": 8,
   "metadata": {},
   "outputs": [
    {
     "data": {
      "text/plain": [
       "<4x17 sparse matrix of type '<class 'numpy.int64'>'\n",
       "\twith 20 stored elements in Compressed Sparse Row format>"
      ]
     },
     "execution_count": 8,
     "metadata": {},
     "output_type": "execute_result"
    }
   ],
   "source": [
    "X = vectorizer.fit_transform(contents_for_vectorize)\n",
    "X"
   ]
  },
  {
   "cell_type": "markdown",
   "metadata": {},
   "source": [
    "### 4개의 문장에 전체 말뭉치의 단어가 17개다"
   ]
  },
  {
   "cell_type": "code",
   "execution_count": 9,
   "metadata": {},
   "outputs": [
    {
     "data": {
      "text/plain": [
       "(4, 17)"
      ]
     },
     "execution_count": 9,
     "metadata": {},
     "output_type": "execute_result"
    }
   ],
   "source": [
    "num_samples, num_features = X.shape\n",
    "num_samples, num_features"
   ]
  },
  {
   "cell_type": "code",
   "execution_count": 10,
   "metadata": {},
   "outputs": [
    {
     "data": {
      "text/plain": [
       "['괜찮아',\n",
       " '너무',\n",
       " '되기',\n",
       " '받은',\n",
       " '불편해',\n",
       " '사는',\n",
       " '사람',\n",
       " '상처',\n",
       " '쉬워',\n",
       " '아는',\n",
       " '아니야',\n",
       " '아무',\n",
       " '아이',\n",
       " '일도',\n",
       " '일찍',\n",
       " '좋은',\n",
       " '커버']"
      ]
     },
     "execution_count": 10,
     "metadata": {},
     "output_type": "execute_result"
    }
   ],
   "source": [
    "vectorizer.get_feature_names()"
   ]
  },
  {
   "cell_type": "code",
   "execution_count": 11,
   "metadata": {},
   "outputs": [
    {
     "data": {
      "text/plain": [
       "array([[0, 0, 0, 1],\n",
       "       [1, 0, 0, 0],\n",
       "       [0, 0, 1, 0],\n",
       "       [1, 1, 0, 0],\n",
       "       [0, 1, 0, 0],\n",
       "       [0, 0, 1, 0],\n",
       "       [0, 1, 2, 0],\n",
       "       [1, 1, 0, 0],\n",
       "       [0, 0, 1, 0],\n",
       "       [0, 1, 0, 0],\n",
       "       [0, 0, 0, 1],\n",
       "       [0, 0, 0, 1],\n",
       "       [1, 0, 0, 0],\n",
       "       [0, 0, 0, 1],\n",
       "       [1, 0, 0, 0],\n",
       "       [0, 0, 1, 0],\n",
       "       [1, 0, 0, 0]], dtype=int64)"
      ]
     },
     "execution_count": 11,
     "metadata": {},
     "output_type": "execute_result"
    }
   ],
   "source": [
    "X.toarray().transpose()"
   ]
  },
  {
   "cell_type": "markdown",
   "metadata": {},
   "source": [
    "### 테스트용 문장"
   ]
  },
  {
   "cell_type": "code",
   "execution_count": 12,
   "metadata": {},
   "outputs": [
    {
     "data": {
      "text/plain": [
       "[' 상처 받기 싫어 괜찮아']"
      ]
     },
     "execution_count": 12,
     "metadata": {},
     "output_type": "execute_result"
    }
   ],
   "source": [
    "new_post = ['상처받기 싫어 괜찮아']\n",
    "new_post_tokens = [t.morphs(row) for row in new_post]\n",
    "\n",
    "new_post_for_vectorize  = []\n",
    "\n",
    "for content in new_post_tokens:\n",
    "    sentence = ''\n",
    "    for word in content:\n",
    "        sentence = sentence + ' ' + word\n",
    "        \n",
    "    \n",
    "    new_post_for_vectorize.append(sentence)\n",
    "    \n",
    "new_post_for_vectorize"
   ]
  },
  {
   "cell_type": "code",
   "execution_count": 13,
   "metadata": {},
   "outputs": [],
   "source": [
    "new_post_vec = vectorizer.transform(new_post_for_vectorize)\n"
   ]
  },
  {
   "cell_type": "markdown",
   "metadata": {},
   "source": [
    "### 벡터로 표현"
   ]
  },
  {
   "cell_type": "code",
   "execution_count": 14,
   "metadata": {},
   "outputs": [
    {
     "data": {
      "text/plain": [
       "array([[1, 0, 0, 0, 0, 0, 0, 1, 0, 0, 0, 0, 0, 0, 0, 0, 0]], dtype=int64)"
      ]
     },
     "execution_count": 14,
     "metadata": {},
     "output_type": "execute_result"
    }
   ],
   "source": [
    "new_post_vec.toarray()"
   ]
  },
  {
   "cell_type": "markdown",
   "metadata": {},
   "source": [
    "### 유클리드 거리"
   ]
  },
  {
   "cell_type": "code",
   "execution_count": 15,
   "metadata": {},
   "outputs": [],
   "source": [
    "import scipy as sp\n",
    "\n",
    "def dist_raw(v1, v2):\n",
    "    delta = v1 - v2\n",
    "    return sp.linalg.norm(delta.toarray())\n"
   ]
  },
  {
   "cell_type": "markdown",
   "metadata": {},
   "source": [
    "### 결과"
   ]
  },
  {
   "cell_type": "code",
   "execution_count": 16,
   "metadata": {},
   "outputs": [
    {
     "data": {
      "text/plain": [
       "[2.449489742783178, 2.23606797749979, 3.1622776601683795, 2.0]"
      ]
     },
     "execution_count": 16,
     "metadata": {},
     "output_type": "execute_result"
    }
   ],
   "source": [
    "dist = [dist_raw(each, new_post_vec) for each in X]\n",
    "dist"
   ]
  },
  {
   "cell_type": "code",
   "execution_count": 17,
   "metadata": {},
   "outputs": [
    {
     "name": "stdout",
     "output_type": "stream",
     "text": [
      "Best post is  3 , dist =  2.0\n",
      "test post is --> ['상처받기 싫어 괜찮아']\n",
      "best dist post is --> 아무 일도 아니야 괜찮아\n"
     ]
    }
   ],
   "source": [
    "print(\"Best post is \", dist.index(min(dist)), \", dist = \", min(dist))\n",
    "print(\"test post is -->\", new_post)\n",
    "print(\"best dist post is -->\", contents[dist.index(min(dist))])"
   ]
  },
  {
   "cell_type": "markdown",
   "metadata": {},
   "source": [
    "### 유사도- 벡터사이의 거리"
   ]
  },
  {
   "cell_type": "code",
   "execution_count": 18,
   "metadata": {},
   "outputs": [
    {
     "name": "stdout",
     "output_type": "stream",
     "text": [
      "[[0 1 0 1 0 0 0 1 0 0 0 0 1 0 1 0 1]]\n",
      "[[0 0 0 1 1 0 1 1 0 1 0 0 0 0 0 0 0]]\n",
      "[[0 0 1 0 0 1 2 0 1 0 0 0 0 0 0 1 0]]\n",
      "[[1 0 0 0 0 0 0 0 0 0 1 1 0 1 0 0 0]]\n",
      "----------------------\n",
      "[[1 0 0 0 0 0 0 1 0 0 0 0 0 0 0 0 0]]\n"
     ]
    }
   ],
   "source": [
    "for i in range(0, len(contents)):\n",
    "    print(X.getrow(i).toarray())\n",
    "    \n",
    "\n",
    "print('----------------------')\n",
    "print(new_post_vec.toarray())"
   ]
  },
  {
   "cell_type": "markdown",
   "metadata": {},
   "source": [
    "### TFIDF\n",
    "    - 한 문서에서 많이 등장한 단어에 가중치를 부여\n",
    "    - 전체 문서에서 많이 나타나는 단어는 중요하지 않게 "
   ]
  },
  {
   "cell_type": "code",
   "execution_count": 19,
   "metadata": {},
   "outputs": [],
   "source": [
    "from sklearn.feature_extraction.text import TfidfVectorizer\n",
    "vectorizer = TfidfVectorizer(min_df=1, decode_error='ignore')"
   ]
  },
  {
   "cell_type": "code",
   "execution_count": 20,
   "metadata": {},
   "outputs": [
    {
     "data": {
      "text/plain": [
       "(4, 17)"
      ]
     },
     "execution_count": 20,
     "metadata": {},
     "output_type": "execute_result"
    }
   ],
   "source": [
    "X = vectorizer.fit_transform(contents_for_vectorize)\n",
    "num_samples, num_features = X.shape\n",
    "num_samples, num_features"
   ]
  },
  {
   "cell_type": "code",
   "execution_count": 21,
   "metadata": {},
   "outputs": [
    {
     "data": {
      "text/plain": [
       "array([[0.        , 0.        , 0.        , 0.5       ],\n",
       "       [0.43671931, 0.        , 0.        , 0.        ],\n",
       "       [0.        , 0.        , 0.39264414, 0.        ],\n",
       "       [0.34431452, 0.40104275, 0.        , 0.        ],\n",
       "       [0.        , 0.50867187, 0.        , 0.        ],\n",
       "       [0.        , 0.        , 0.39264414, 0.        ],\n",
       "       [0.        , 0.40104275, 0.6191303 , 0.        ],\n",
       "       [0.34431452, 0.40104275, 0.        , 0.        ],\n",
       "       [0.        , 0.        , 0.39264414, 0.        ],\n",
       "       [0.        , 0.50867187, 0.        , 0.        ],\n",
       "       [0.        , 0.        , 0.        , 0.5       ],\n",
       "       [0.        , 0.        , 0.        , 0.5       ],\n",
       "       [0.43671931, 0.        , 0.        , 0.        ],\n",
       "       [0.        , 0.        , 0.        , 0.5       ],\n",
       "       [0.43671931, 0.        , 0.        , 0.        ],\n",
       "       [0.        , 0.        , 0.39264414, 0.        ],\n",
       "       [0.43671931, 0.        , 0.        , 0.        ]])"
      ]
     },
     "execution_count": 21,
     "metadata": {},
     "output_type": "execute_result"
    }
   ],
   "source": [
    "X.toarray().transpose()"
   ]
  },
  {
   "cell_type": "markdown",
   "metadata": {},
   "source": [
    "### 테스트 문장 적용"
   ]
  },
  {
   "cell_type": "code",
   "execution_count": 22,
   "metadata": {},
   "outputs": [
    {
     "data": {
      "text/plain": [
       "array([[0.78528828, 0.        , 0.        , 0.        , 0.        ,\n",
       "        0.        , 0.        , 0.6191303 , 0.        , 0.        ,\n",
       "        0.        , 0.        , 0.        , 0.        , 0.        ,\n",
       "        0.        , 0.        ]])"
      ]
     },
     "execution_count": 22,
     "metadata": {},
     "output_type": "execute_result"
    }
   ],
   "source": [
    "new_post_vec = vectorizer.transform(new_post_for_vectorize)\n",
    "new_post_vec.toarray()"
   ]
  },
  {
   "cell_type": "code",
   "execution_count": 23,
   "metadata": {},
   "outputs": [],
   "source": [
    "def dist_norm(v1, v2):\n",
    "    v1_normalized = v1 / sp.linalg.norm(v1.toarray())\n",
    "    v2_normalized = v2 / sp.linalg.norm(v2.toarray())\n",
    "    \n",
    "    delta = v1_normalized - v2_normalized\n",
    "    \n",
    "    return sp.linalg.norm(delta.toarray())"
   ]
  },
  {
   "cell_type": "markdown",
   "metadata": {},
   "source": [
    "### 결과"
   ]
  },
  {
   "cell_type": "code",
   "execution_count": 24,
   "metadata": {},
   "outputs": [
    {
     "name": "stdout",
     "output_type": "stream",
     "text": [
      "Best post is  3 , dist =  1.1021396119773588\n",
      "test post is --> ['상처받기 싫어 괜찮아']\n",
      "best dist post is --> 아무 일도 아니야 괜찮아\n"
     ]
    }
   ],
   "source": [
    "dist = [dist_norm(each, new_post_vec) for each in X]\n",
    "\n",
    "print(\"Best post is \", dist.index(min(dist)), \", dist = \", min(dist))\n",
    "print(\"test post is -->\", new_post)\n",
    "print(\"best dist post is -->\", contents[dist.index(min(dist))])"
   ]
  },
  {
   "cell_type": "code",
   "execution_count": 25,
   "metadata": {},
   "outputs": [],
   "source": [
    "import urllib.request\n",
    "import json\n",
    "import datetime"
   ]
  },
  {
   "cell_type": "markdown",
   "metadata": {},
   "source": [
    "### 네이버 API를 사용"
   ]
  },
  {
   "cell_type": "code",
   "execution_count": 26,
   "metadata": {},
   "outputs": [],
   "source": [
    "def gen_search_url(api_node, search_text, start_num, disp_num):\n",
    "    base = 'https://openapi.naver.com/v1/search'\n",
    "    node = \"/\" + api_node + \".json\"\n",
    "    param_query = \"?query=\" + urllib.parse.quote(search_text)\n",
    "    param_start = '&start=' + str(start_num)\n",
    "    param_disp = '&display=' + str(disp_num)\n",
    "    \n",
    "    return base + node + param_query + param_start + param_disp"
   ]
  },
  {
   "cell_type": "code",
   "execution_count": 27,
   "metadata": {},
   "outputs": [],
   "source": [
    "import json\n",
    "import datetime\n",
    "\n",
    "def get_result_onpage(url):\n",
    "    request = urllib.request.Request(url)\n",
    "    request.add_header(\"X-Naver-Client-Id\", client_id)\n",
    "    request.add_header(\"X-Naver-Client-Secret\", client_secret)\n",
    "    \n",
    "    response = urllib.request.urlopen(request)\n",
    "    \n",
    "    print(\"[%s] Url Request Success\" % datetime.datetime.now())\n",
    "    \n",
    "    return json.loads(response.read().decode('utf-8'))"
   ]
  },
  {
   "cell_type": "markdown",
   "metadata": {},
   "source": [
    "### 문장 수집(파이썬에 관련된 검색)"
   ]
  },
  {
   "cell_type": "code",
   "execution_count": 30,
   "metadata": {},
   "outputs": [
    {
     "name": "stdout",
     "output_type": "stream",
     "text": [
      "[2020-04-20 13:55:27.061962] Url Request Success\n"
     ]
    }
   ],
   "source": [
    "client_id = 'uCFS2FeQh0Hd5Ljzztue'\n",
    "client_secret ='Jew0Xamv_h'\n",
    "\n",
    "url = gen_search_url('kin', '파이썬', 1, 100)\n",
    "one_result = get_result_onpage(url)"
   ]
  },
  {
   "cell_type": "code",
   "execution_count": 31,
   "metadata": {},
   "outputs": [
    {
     "data": {
      "text/plain": [
       "'... 때마다 <b>파이썬</b>으로 백준 문제를 풀고있고 Mysql과... 제가 알기로는 학교에서 하는 프로그래밍 대회는 <b>파이썬</b>이... 정말 <b>파이썬</b>만 해서 실력으로 취업할 가능성도 있을까요?... <b>파이썬</b> 공부에 관심을 갖고 계신 상황인데요. 기본적으로... '"
      ]
     },
     "execution_count": 31,
     "metadata": {},
     "output_type": "execute_result"
    }
   ],
   "source": [
    "one_result['items'][0]['description']"
   ]
  },
  {
   "cell_type": "markdown",
   "metadata": {},
   "source": [
    "### 태그 제거기"
   ]
  },
  {
   "cell_type": "code",
   "execution_count": 32,
   "metadata": {},
   "outputs": [],
   "source": [
    "def delete_tag(input_str):\n",
    "    input_str = input_str.replace(\"<b>\", \"\")\n",
    "    input_str = input_str.replace(\"</b>\", \"\")\n",
    "    \n",
    "    return input_str"
   ]
  },
  {
   "cell_type": "code",
   "execution_count": 33,
   "metadata": {},
   "outputs": [],
   "source": [
    "def get_description(pages):\n",
    "    contents = []\n",
    "    for sentences in pages['items']:\n",
    "        contents.append(delete_tag(sentences['description']))\n",
    "        \n",
    "    return contents"
   ]
  },
  {
   "cell_type": "markdown",
   "metadata": {},
   "source": [
    "### 컨텐츠를 list로 변환"
   ]
  },
  {
   "cell_type": "code",
   "execution_count": 36,
   "metadata": {},
   "outputs": [
    {
     "data": {
      "text/plain": [
       "['... 때마다 파이썬으로 백준 문제를 풀고있고 Mysql과... 제가 알기로는 학교에서 하는 프로그래밍 대회는 파이썬이... 정말 파이썬만 해서 실력으로 취업할 가능성도 있을까요?... 파이썬 공부에 관심을 갖고 계신 상황인데요. 기본적으로... ',\n",
       " '이제 파이썬으로 실습을 하려는 대학생입니다. 파이썬을 혼자 공부하다보니 책에서 모듈을 공부하는데... 말인데 파이썬 모듈을 좀 더 공부할 수 있는 곳이나 자료를 어디서 받을지 알 수 있을가요?  파이썬에서... ',\n",
       " '... 생각중이라 파이썬학원 다니면서 미리 좀 배워보려고 파이썬학원 알아보는중인데요. 집 주변에서 파이썬학원... 이왕 파이썬학원 다니는거 전문적인곳으로 잘 알아보고 다니고 싶은데 커리큘럼 다양하고 시설 괜찮은... ',\n",
       " '파이썬 공부를 하려고 하는데 교재는 어떤게 좋으며, 그냥 검색해서 나오는 파이썬 아무거나 깔면 상관 없는건가요?? 부모님이 자꾸 파이썬 어디서 구매하는지... 파이썬은 무로입니다. 파이선 자체 설치는 한곳 뿐 입니다.... ',\n",
       " '라즈베리파이 파이썬 2 추가 설치 어떻게 하나요? 라즈비안 최신버전입니다 라즈비안에는 파이썬 2.7 과 3.4 버전이 기본적으로 설치되어 있습니다. 실행시 python 으로 실행하면 2.7 버전대로 실행되고 python3 로 실행하면... ',\n",
       " '... 인터넷 검색해보니깐 파이썬을 먼저 배우는게 좋다고 하더라구요 파이썬학원 검색해보는데 정보가 너무 많아서... 파이썬학원 중 가장 좋은곳은 어디인가요? 비전공자이고, 파이썬에 파도 모르거든요.... 파이썬학원 선택하는데... ',\n",
       " '파이썬으로 프로그래밍 처음 입문하려고합니다. 프로그래밍 입문하려면 파이썬이 좋다는 이야기를 많이... 파이썬을 공부하신다고 하셨는데요~ 일단 냉정하게... 추가적으로, 만약 주위에 파이썬 관련하여 전문가가 있다면, 그... ',\n",
       " '안녕하세요 파이썬 공부를 시작으로 프로그래밍 언어 공부를 하려는 평범한... 선후배들이 파이썬 언어는 바워 놓으면 도움된다해서 파이썬... 안녕하세요 파이썬 온라인 강의 알아보시는 것 같습니다. 파이썬 온라인 강의를... ',\n",
       " '파이썬 독학으로 배워보려고 하는데 많이 어렵나요?? 안녕하세요 학습전문멘토 영쌤입니다. 요즘 책도잘나오고... it계열 파이썬 포함해서 c언어 그 위로 c++까지도 공부해보실수 있는 인강이 있습니다. https://ricnn.edueroom.co.kr... ',\n",
       " '궁금한게 있는데요 파이썬프로그래밍을 배우면 일본취업에 유리할까요? 일본은 대부분 c언어나 자바아닌가요? 파이썬프로그래밍이 쓸모없지않겠죠? 사실 파이썬은.. 언어... 그 이유는 파이썬의 경우 보통 처음부터 뭔가 협업하여... ']"
      ]
     },
     "execution_count": 36,
     "metadata": {},
     "output_type": "execute_result"
    }
   ],
   "source": [
    "contents = get_description(one_result)\n",
    "contents[:10]"
   ]
  },
  {
   "cell_type": "markdown",
   "metadata": {},
   "source": [
    "### 형태소 분석"
   ]
  },
  {
   "cell_type": "code",
   "execution_count": 37,
   "metadata": {},
   "outputs": [],
   "source": [
    "from sklearn.feature_extraction.text import CountVectorizer\n",
    "from konlpy.tag import Okt\n",
    "\n",
    "t = Okt()\n",
    "vectorizer = CountVectorizer(min_df = 1)\n"
   ]
  },
  {
   "cell_type": "code",
   "execution_count": 41,
   "metadata": {},
   "outputs": [
    {
     "data": {
      "text/plain": [
       "[['...',\n",
       "  '때',\n",
       "  '마다',\n",
       "  '파이썬',\n",
       "  '으로',\n",
       "  '백',\n",
       "  '준',\n",
       "  '문제',\n",
       "  '를',\n",
       "  '풀고있고',\n",
       "  'Mysql',\n",
       "  '과',\n",
       "  '...',\n",
       "  '제',\n",
       "  '가',\n",
       "  '알기',\n",
       "  '로는',\n",
       "  '학교',\n",
       "  '에서',\n",
       "  '하는',\n",
       "  '프로그래밍',\n",
       "  '대회',\n",
       "  '는',\n",
       "  '파이썬',\n",
       "  '이',\n",
       "  '...',\n",
       "  '정말',\n",
       "  '파이썬',\n",
       "  '만',\n",
       "  '해서',\n",
       "  '실력',\n",
       "  '으로',\n",
       "  '취업',\n",
       "  '할',\n",
       "  '가능성',\n",
       "  '도',\n",
       "  '있을까요',\n",
       "  '?...',\n",
       "  '파이썬',\n",
       "  '공부',\n",
       "  '에',\n",
       "  '관심',\n",
       "  '을',\n",
       "  '갖고',\n",
       "  '계신',\n",
       "  '상황',\n",
       "  '인데',\n",
       "  '요',\n",
       "  '.',\n",
       "  '기본',\n",
       "  '적',\n",
       "  '으로',\n",
       "  '...']]"
      ]
     },
     "execution_count": 41,
     "metadata": {},
     "output_type": "execute_result"
    }
   ],
   "source": [
    "contents_tokens = [t.morphs(row) for row in contents ]\n",
    "contents_tokens[:1]"
   ]
  },
  {
   "cell_type": "markdown",
   "metadata": {},
   "source": [
    "### vectorize 후 다시 합치기"
   ]
  },
  {
   "cell_type": "code",
   "execution_count": 42,
   "metadata": {},
   "outputs": [
    {
     "data": {
      "text/plain": [
       "[' ... 때 마다 파이썬 으로 백 준 문제 를 풀고있고 Mysql 과 ... 제 가 알기 로는 학교 에서 하는 프로그래밍 대회 는 파이썬 이 ... 정말 파이썬 만 해서 실력 으로 취업 할 가능성 도 있을까요 ?... 파이썬 공부 에 관심 을 갖고 계신 상황 인데 요 . 기본 적 으로 ...',\n",
       " ' 이제 파이썬 으로 실습 을 하려는 대학생 입니다 . 파이썬 을 혼자 공부 하다 보니 책 에서 모듈 을 공부 하는데 ... 말 인데 파이썬 모듈 을 좀 더 공부 할 수 있는 곳 이나 자료 를 어디서 받을지 알 수 있을가요 ? 파이썬 에서 ...',\n",
       " ' ... 생각 중 이라 파이썬 학원 다니면서 미리 좀 배워 보려고 파이썬 학원 알아보는 중 인데 요 . 집 주변 에서 파이썬 학원 ... 이왕 파이썬 학원 다니는거 전문 적 인 곳 으로 잘 알아보고 다니고 싶은데 커리큘럼 다양하고 시설 괜찮은 ...',\n",
       " ' 파이썬 공부 를 하려고 하는데 교재 는 어떤게 좋으며 , 그냥 검색 해서 나오는 파이썬 아무 거나 깔면 상관 없는건 가요 ?? 부모님 이 자꾸 파이썬 어디서 구매 하는지 ... 파이썬 은 무 로 입니다 . 파이선 자체 설치는 한 곳 뿐 입니다 ....',\n",
       " ' 라즈베리파이 파이썬 2 추가 설치 어떻게 하나요 ? 라즈 비안 최신 버전 입니다 라즈 비안에는 파이썬 2.7 과 3.4 버전 이 기본 적 으로 설치 되어 있습니다 . 실행 시 python 으로 실행 하면 2.7 버전 대로 실행 되고 python 3 로 실행 하면 ...',\n",
       " ' ... 인터넷 검색 해보니깐 파이썬 을 먼저 배우는게 좋다고 하더라구요 파이썬 학원 검색 해보는데 정보 가 너무 많아서 ... 파이썬 학원 중 가장 좋은 곳 은 어디 인가요 ? 비 전공자 이고 , 파이썬 에 파도 모르거든요 .... 파이썬 학원 선택 하는데 ...',\n",
       " ' 파이썬 으로 프로그래밍 처음 입문 하려고 합니다 . 프로그래밍 입문 하려면 파이썬 이 좋다는 이야기 를 많이 ... 파이썬 을 공부 하신다고 하셨는데요 ~ 일단 냉정하게 ... 추가 적 으로 , 만약 주위 에 파이썬 관련 하여 전문가 가 있다면 , 그 ...',\n",
       " ' 안녕하세요 파이썬 공부 를 시작 으로 프로그래밍 언어 공부 를 하려는 평범한 ... 선후배 들 이 파이썬 언어 는 바워 놓으면 도움 된 다해 서 파이썬 ... 안녕하세요 파이썬 온라인 강의 알아보시는 것 같습니다 . 파이썬 온라인 강의 를 ...',\n",
       " ' 파이썬 독학 으로 배워 보려고 하는데 많이 어렵나요 ?? 안녕하세요 학습 전문 멘토 영 쌤 입니다 . 요즘 책 도 잘나오고 ... it 계열 파이썬 포함 해서 c 언어 그 위로 c ++ 까지도 공부 해보실수 있는 인강 이 있습니다 . https://ricnn.edueroom.co.kr ...',\n",
       " ' 궁금한게 있는데요 파이썬 프로그래밍 을 배우면 일 본 취업 에 유리할까 요 ? 일본 은 대부분 c 언어 나 자바 아닌가요 ? 파이썬 프로그래밍 이 쓸모없지 않겠죠 ? 사실 파이썬 은 .. 언어 ... 그 이유 는 파이썬 의 경우 보통 처음 부터 뭔가 협업 하여 ...',\n",
       " ' ... 현재 학원 에서 파이썬 반복 문 을 갓 입문 했습니다 . 파이썬 말고 리눅스 를 하고싶은데 파이썬 은 보통 얼마나 하면 ... 컴퓨터 , 프로그래밍 , IT 분야 지식 IN 전문 답변 인 진로 진학 취업 상담 가 이에요 파이썬 이랑 리눅스 서버 도 ...',\n",
       " ' 독학 으로 파이썬 을 공부 해 보려고하는데요 인강 과 교재 ? 책 추천 좀 해주세요 .... 학원 에서 파이썬 하나 만 배우면 비용 이 대체로 얼마 정도 드나 요 ?... 혼자 서 파이썬 을 독학 하 시기 에는 어려운 점 이 있으실 것 이라는 생각 이 듭니 다 . 많은 ...',\n",
       " ' 파이썬 공부 할 필요 가 생겨서 파이썬 공부 를 할까 하는데 아무 것 도 모르는 비 전공자 라 파이썬 은 어디 에 쓰이고 ... 파이썬 공부 에 대해 질문 남겨주셨는데요 , 우선 , 파이썬 은 홈페이지 개발 에 많이 쓰입니다 윈도우 실행 프로그램 을 ...',\n",
       " ' ... 일단 파이썬 으로 독학 시작 해보려고하는데요 뭐 아는 게 없어서 선뜻 시작 하기가 애매하네요 파이썬 독학 으로 배우기 많이 어렵나요 ?? 요즘 은 시대 가 좋아서 파이썬 관련 서적 이나 인강 이 잘 돼있답니다 게다가 파이썬 은 비교 적 ...',\n",
       " ' 파이썬 언어 공부 먼저 ? 해야하나요 안녕하세요 . IT ... 먼저 파이썬 에 대해 서 궁금하신 이유 는 무엇 인가요 ? 파이썬 은 프로그래밍언어 라는 겁니다 . 가장 인기 있는 언어 죠 . 컴퓨터 공 학부 나 , IT 기업 에서도 파이썬 을 가장 많이 ...',\n",
       " ' ... 특성화고 다니는데 학교 수업 많으로는 파이썬 , c 언어 ... 부분 이고 파이썬 , c 언어 가 제대로 이해 못 한다면 C ++, 자바 까지 배울 수 없어 파이썬 , C 언어 가 가장 중요하다고 할 수 있습니다 . 대부분 의 파이썬 인강 , 인터넷 강의 는 옛날 ...',\n",
       " ' 파이썬 가르쳐주는 학원 이 어디 죠 ? 파이썬 배울 수 있는 학원 추천 해드릴께요 ! http://sbsdaejeon.co.kr SBS 아카데미 컴퓨터아트 학원 박세진 Previous Next pused 수강 료 조회 취업 과정 조회 지점 위치 조회 ...',\n",
       " ' ... 사업가 로 파이썬 페이지 를 구축 하는 사람 을 불러서 웹페이지 개발 을 의뢰 한 적 이 있었는데요 . 아무래도 파이썬 웹 ... 제 가 파이썬 웹페이지 기술 을 배워 두면 어느 정도 그런 ... 파이썬 교육 은 가능하다고 들은 적은 있지만 파이썬 웹페이지 ...',\n",
       " ' 안녕하세요 이번 에 파이썬 에 관심 이 생긴 1 인 입니다 . 파이썬 학원 다녀 보려고 정보 찾는 중이 예요 처음 배우는거라 ... 알려주는 파이썬 학원 어디 없을까요 ? 이왕 알아보는거 교육과정 도 다양하고 실습 환경 까지 깨끗한 파이썬 학원 이 ...',\n",
       " ' ... 파이썬 을 공부 할려고 하는데요 제일 기초 가 프로그래밍 언어 라고 하는데 그중 제일 추천 하는것이 파이썬 이라고 ... 좋겠습니다 파이썬 ( Python ) 은 직관 적 이고 배우기 쉬운 프로그래밍 언어 입니다 . 파이썬 의 가장 큰 장점 은 문법 을 잘 ...',\n",
       " ' 파이썬 에서 goto 를 쓸수있는 모듈 이나 아니면 오류 났을 때 다시 돌아가는 방법 을 알고싶어요 다음 링크 의 ... 파이썬 명령어 질문 배치파일 하면 : goto aa 뭐시기 뭐시기 이런 명령어 있잖아요 파이썬 에서는 어덯 게 하나요 kin . naver ....',\n",
       " ' 며칠 전 부터 취미 로 파이썬 공부 를 시작 한 40 대 직장인 입니다 . 파이썬 ... 제 가 짧은 지식 으로 추특컨데 파이썬 코드 를 작성 하는 파트 와 터미널 쪽 ... 파이썬 은 여러 패키지 들 을 pip 명령 으로 설치 하면서 각 패키지 의 기능 을 ...',\n",
       " ' 파이썬 자격증 을 따 보려고 하는데요 .. 1 . 시 함치는데 나이 제한 도 았 나 요 ? 2 . 좋은 책 과 공부 법좀 알려주세요 3 .... 파이썬 자격증 은 민간 자격증 입니다 . 굳이 취득 하고 싶다고 하신다면 말리진 않겠지만 공부 하시는건 도 와 드릴 수 ...',\n",
       " ' 파이썬 소스 파일 을 만들었는데 입력값 을 받는 것 은 ... 명령 프롬 프트 창 으로 파이썬 이 실행 되었다가 , 프로그램 ... 명령 프롬프트 를 따로 열고 여기 서 파이썬 을 실행 합니다 .... 아니면 IDLE 이나 그 외 에 프로그램 내 에서 파이썬 실행 결과 를 ...',\n",
       " ' 비 전공자 인데 파이썬 인강 을 들어 보고 더 배우고싶으면 학원 을 다니려고 하는데 파이썬 인강 퀄리티 가 좋은 곳 없나요 ? 안녕하세요 . KG 에듀 원 입니다 ~ 파이썬 인강 퀄리티 좋은 곳 을 알 아 보고 계신데요 저희 KG 에듀 원 에서 하는 인강 은 일반 ...',\n",
       " ' 파이썬 배우고 싶은데요 이 게 쉽다고 하던데 진짜 괜찮겠죠 ?? 일단 혼자 해볼까 해서요 아닌가 잘 모르겠어요 ... 파이썬 은 문법 도 간결해서 되게 쉬워요 배우고나서 C 언어 배우고 자바 , 자료구조 배우세요 그럼 어렵지 ...',\n",
       " ' ... 프로그래밍언어 들 이 되게 많던데 파이썬 추천 하시는 분 들 이 많더라구요 파이썬 의 장점 이 뭔가 요 ? 왜 파이썬 을 많이 추천 해주시는거에요 ?? 2 . 따로 학원 안다니고 파이썬 강좌 보면서 독학 해보려고 하는데 파이썬 독학 해도 제대로 배울 ...',\n",
       " ' ... 봤더니 파이썬 이라고 하네요 근데 파이썬 전 에 더 기초 로 공부 해야 할 부분 이 있나요 ?? 바로 시작 해 ... 읽는 파이썬 3 기초 - 구름 EDU 파이썬 을 배우고 싶은 누구 나 쉽고 재밌게 읽을 수 있는 구름 오 리지 널 파이썬 ( python )...',\n",
       " ' ... 저 는 맥 에서 파이썬 을 아톰 으로 사용 하고 있습니다 . 아톰 으로 파이썬 을 배우며 super () 라는 메 소드 를 사용 할 시 에러 가 났었고 그 이유 는 제 가 파이썬 3.7 . 3 을 설치 했었는데 아톰 에서 파이썬 이 2.7 버전 으로 실행 되고 ...',\n",
       " ' ... 하는데 파이썬 을 쓰는 것 같더라구요 근데 파이썬 배워놓으면 대학가 서나 미래 에 쓸만 할까 요 ?? 옛날 에 ... 있어서 파이썬 도 배워 보려구요 실용 성 이 없다면 배우지 않을 생각 입니다 파이썬 은 여러 모로 ...',\n",
       " ' 파이썬 공부 를 해야하는데 제 가 정말 기본 적 인 수학 지식 만 있고 함수 이런 걸 하나 도 모르는데 파이썬 공부 하면 할 ... 점프 투 파이썬 저자 박 응용 출판 이지스퍼블리싱 발매 2019.06 . 20 . 파이썬 3 바이블 저자 이 강성 출판 프리 렉 발매 2013 ....',\n",
       " ' 파이썬 기초 부터 배우려고 하는데 괜찮은 학원 없나요 ? 직장 에서 파이썬 을 꼭 배우 라고 해서 파이썬 기초 부터 ... 파이썬 기초 학원 추천 좀 해주세요 ! 안녕하세요 ~ 프로그래밍 교육 상담 을 담당 하고 있습니다 ! 처음 입문 하시는 ...',\n",
       " ' 파이썬 책 추천 해주세요 게임 으로 배우는 파이썬 기초 와 객체지향 을 통한 ... 파이썬 은 외부 라이브러리 등 을 통해 엄청 많은 분야 를 지원 하고 ... 질문 하실 땐 사진 캡쳐 보다는 파이썬 코드 를 텍스트 로 캡쳐 하시던가 py 파일 을 ...',\n",
       " ' ... 하는데 파이썬 프로그래밍 이 가장 쉽다고 해서 파이썬 부터 배워 볼려고 ... 기초 부터 프로그래밍 배울 수 있는 부산 파이썬 학원 있나요 ? 안녕하세요 ... 있는데요 파이썬 프로그래밍언어 는 문법 이 가장 간단하며 초보자 , 비 전공자 ...',\n",
       " ' 제 가 파이썬 공부 를 하다가 format 함수 를 활용 해 보았는데요 oupput _ b ~ f 까지 오류 가 뜨는데 제 가 쓴 코드 에서 저 는 ... 파이썬 잘 아시 는 분 해결 점 해주세요 .... 파이썬 3.8 프로그램 으로는 되는데 비주 얼 비디오 코드 에디터 를 사용 하면 ...',\n",
       " ' 파이썬 개발자 가 되고 싶은데요 파이썬 만 공부 하면 될까 요 ? 제목 그대로 에요 파이썬 으로 개발자 가 되고싶은데 파이썬 으로 할 수 있는 개발자 가 뭐 에요 ? 안녕하세요 ! 교육 전문 컨설턴트 임군 입니다 ^^ 궁금하신 부분 에 대해 ...',\n",
       " ' 프로그래밍 공부 를 시작 해보려는 고등학생 입니다 파이썬 이 제일 쉽다고 해서 인강 으로 공부 해보려는데 어디 파이썬 인강 이 좋은지 모르겠어요 직접 들어 보신 분들 있으면 파이썬 인강 추천 좀 해주세요 파이썬 인강 으로 KG 에듀 원 ...',\n",
       " ' 파이썬 이 프로그래밍 언어 중 가장 쉽 다해 서 공부 해보려는데 인강 이 ... 안녕하세요 파이썬 인강 알아보시는 것 같습니다 . 파이썬 뿐 만 아니라 IT 분야 ... 위 에 목록 에 전부 해당 되는 파이썬 인강 사이트 추천 드리겠습니다 . 열심히 ...',\n",
       " ' ... 코딩 현직 자하 는 말 이 파이썬 부터 우선 적 으로 학습 을 해야 한다고 해서 파이썬 먼저 들으려고 하는데 , 괜찮은 ... 아무래도 기초 적 인 프로그래밍언어 부터 학습 을 하셔야하는데 그 언어 가 파이썬 입니다 . 사실 , 이러한 코딩 언어 는 ...',\n",
       " ' 파이썬 언어 는 어디 에 쓰이죠 ? 안녕하세요 . IT ... 먼저 파이썬 에 대해 서 궁금하신 이유 는 무엇 인가요 ? 파이썬 은 프로그래밍언어 라는 겁니다 . 가장 인기 있는 언어 죠 . 컴퓨터 공 학부 나 , IT 기업 에서도 파이썬 을 가장 많이 ...',\n",
       " ' 안녕하세요 제 가 파이썬 을 공부 하고 싶은데 독학 으로 하고 싶어요 관련 된 ... 현재 질문 자 께서 안녕하세요 제 가 파이썬 을 공부 하고 싶은데 독학 으로 ... 좋겠습니다 파이썬 공부 를 하실려고 하시군요 독학 으로 공부 를 하시게 되면 ...',\n",
       " ' 파이썬 = 코딩 = 프로그래밍 인가요 ? 안녕하세요 . 진로 / 취업 / 교육 분야 전문 컨설턴트 비니 쌤 입니다 . 질문 에 ... 파이썬 은 프로그래밍 언어 에 속 해있는 언어 입니다 . 코딩 에 대해 서 맞춤 상담 을 받기를 희망 하신다면 , 가장 빠른 상담 ...',\n",
       " \" ... 없다고 파이썬 이라도 공부 해라고 시켰거든요 . 강남 파이썬 학원 이라 인터넷 에 검색 했더니 뭐 가 먼지 모르겠다고 ... 동생 이 파이썬 을 괜찮게 배울 수 있는 강남 파이썬 학원 추천 부탁드립니다 . 안녕하세요 , IT 교육 컨설턴트 ' 큐쌤 ' 입니다 ....\",\n",
       " ' ... 점프 투 파이썬 & quot ; 이라는 교재 를 통해 서 파이썬 기본 문법 공부 를 1회 독 한 상태 인데 이후 에 파이썬 ... scode = 032 & amp ; OzSrank = 10 러닝 파이썬 세트 이 상품 은 YES 24 에서 구성 한 상품 입니다 .( 낱개 반품 불가 ).[ 도서 ]...',\n",
       " ' 질문 을 드립니다 선생님 파이썬 개발자 가 되고싶은데 뭐 가 있는지도 잘 모르겠네요 선생님 께서 파이썬 개발자 에 대해 알려주세요 파이썬 언어 는 문법 도 간결해서 다소 다른 언어 에 비 해서 쉽다고 생각 해요 . 파이썬 언어 를 배웠다면 ...',\n",
       " ' 안녕하세요 저 는 올해 15 살 인데 프로그래밍 언어 인 파이썬 의 관심 이 생겻습니 다 . 파이썬 에 대해 공부 도 하고 싶고 ... 모르겠어서 파이썬 을 잘 아시 는 분 께 질문 도 해가면서 파이썬 을 배우고 싶습니다 . 파이썬 에 대해 잘 아시 는 분들 ...',\n",
       " ' 파이썬 공부 중 인데 이 문제 어떻게 푸나 요 ?? 다음 예제 를 참고 하세요 . # This Python file uses the following encoding : utf - 8 # -*- coding : utf - 8 -*- string = & quot ; A B C D E & quot ; string _ 2 _ list = string . split () new _ string = & quot ;& quot ;. join ...',\n",
       " ' ... ㅠㅠ 파이썬 부터 먼저 공부 해도 상관없겠죠 ? 작성자 님 께서 궁금하신 부분 에 대해 답변 드리겠습니다 . 파이썬 을 ... 추가 적 으로 , 만약 주위 에 파이썬 관련 하여 전문가 가 ... limhg999.edueroom.co.kr 파이썬 독학 관련 해서 더 궁금하신 ...',\n",
       " ' 파이썬 을 배우고 있는데요 . 재귀함수 가 잘 이해 가 안되요 . 특히 경우 의 수 구 하기랑 총 합구 하기 같은거요 .. 쉽게 설명 해 주실 수 있나요 ??? 재귀함수 는 쉽게 설명 될수 있는게 아닙니다 . 설명 듯 고서 뚝닥 할수 있는거라면 ... 이해 하신 ...',\n",
       " ' 파이썬 인강 추천 해주세요 !!! 안녕하세요 파이썬 인강 알아보시는 것 같습니다 . 예전 강의 가 아닌 최신 강의 업데이트 별도 의 교재 구매 가 필요없는 수업 자료 제공 강사 님 께 질문 이 가능한 파이썬 ...',\n",
       " ' ... 있어서 파이썬 으로 공부 시작 해보려는데 독학 이 가능할까 요 ? 가능하다면 어떤 식 으로 파이썬 독학 해야하는지 도움 좀 얻고싶습니다 보통 파이썬 독학 은 인강 으로 많이 하는 편이 에요 파이썬 인강 으로 KG 에듀 원 이룸 ...',\n",
       " ' 프로그래밍 언어 중 파이썬 으로 기초 를 배우고 싶은데 어디 로 가야 ... 현재 질문 자 께서 프로그래밍 언어 중 파이썬 으로 기초 를 배우고 싶은데 어디 로 ... 전문 교육 기관 인 많 큼 프로그래밍 언어 중 파이썬 을 당연히 배우겠죠 ? 그리고 IT ...',\n",
       " ' 기초 파이썬 학원 추천 해주세요 . 지금 업무 를 함 에 있어서 파이썬 을 써야 할 일이 많이 발생 하고 있는 회사원 인데 요 . 처음 에는 부 사수 에게 파이썬 을 배워라고 해서 어느 정도 ... 이 녀석 이 타지 로 발령 가서 프로젝트 진행 하는 동안 파이썬 을 ...',\n",
       " ' 프로그래밍언어 공부 를 시작 했는데 파이썬 부터 하라 는 얘기 가 많아서 공부 하려고 하는데 파이썬 은 어디 에 쓰이고 ... 파이썬 공부 에 대해 질문 남겨주셨는데요 , 우선 , 파이썬 은 홈페이지 개발 에 많이 쓰입니다 윈도우 실행 프로그램 을 ...',\n",
       " ' 파이썬 을 실행 했을 때 쉘창 만 뜨는데 코드 창 은 어떻게 띄우나요 ??? 기본 파이썬 을 설치 하였다면 , IDLE 을 실행 한 뒤 새 파일 이나 , 기존 파일 을 열어서 실행 ( F 5 ) 하시면 됩니다 .',\n",
       " \" 파이썬 질문 도와주세요 실행 결과 를 나타내야 하는데 코드 좀 알려주세요 import random n = int ( input (' 주사위 를 던질 횟수 를 입력 하세요 ( 100 이상 ): ')) while n & gt ;= 100 : lst =[ 0 , 0 , 0 , 0 , 0 , 0 ] for i in range ( n ): k = random ....\",\n",
       " ' ... 파이썬 이 진입 장벽 이 낮다고 해서 파이썬 부터 독학 해보려 합니다 공부 할 의욕 은 넘치는데 어떤 식 으로 파이썬 ... 인강 으로 파이썬 독학 을 하는 경우 가 많아요 제 가 추천 해드릴 곳 은 KG 에듀 원 이룸 입니다 에듀 원 이룸은 파이썬 ...',\n",
       " ' 요즘 파이썬 언어 가 뜨고있다고 하더라 구 여 그래서 ... 질문 자 님 께서 말씀 하신 대로 파이썬 언어 는 대세 중 에 대세 인 언어 입니다 . 따라서 많은 분 들 이 파이썬 언어 를 ... kr ✔ 파이썬 공부 관련 궁금하신 점 은 아래 이미지 클릭 을 ...',\n",
       " ' 터틀 로 그림 그려야 햐 는 데 별 을 못 그리겠어요 forward () 랑 오른쪽 왼쪽 각도 써서 그리라는데 길이 랑 각도 를 몰라서 못 그리겠는데 이 거 한번 써주실 파이썬 능력자 계신가요 ㅠㅠ import turtle as t ll = 300 ...',\n",
       " ' ... 생겨 파이썬 언어 를 독학 하고 있습니다 . 질문 몇 가지 가 있네요 1 . 파이썬 언어 를 할려면 암기력 이 ... 현재 유튜브 로 독학 하고 있는데 파이썬 언어 를 더 쉽게 독학 할 수 있는 무료 과정 있나요 ? 3 . 파이썬 을 ...',\n",
       " ' 프로그래밍 입문 할 땐 파이썬 이 좋다고 해서 파이썬 독학 해보려고 하는데요 어떤 식 으로 독학 시작 해야 할지 감 이 안오네요 파이썬 독학 하는 방법 추천 좀 해주세요 보통 파이썬 독학 은 인강 으로 많이 하는 편이 에요 파이썬 독학 ...',\n",
       " ' 파이썬 의사코드 를 작성 할 때 실제 코드 옆 에 주석 으로 설명 만해 도 되는건 가요 ?... 파이썬 코드 가 이미 있다면 의사코드 대신 파이썬 코드 를 제시 하면 되는 ... 다만 의사 코드 를 대신 할 시 에는 map , join 이런 파이썬 특유 의 것 들 은 쓰면 ...',\n",
       " ' 파이썬 을 독학 해보려고 합니다 . 한 달 정도 공부 하면 ... 파이썬 을 공부 하신다고 하셨는데요 ~ 일단 냉정하게 ... 추가 적 으로 , 만약 주위 에 파이썬 관련 하여 전문가 가 있다면 ... 파이썬 독학 관련 해서 더 궁금하신 부분 이 있다면 , 아래 ...',\n",
       " ' 파이썬 을 공부 하려고하는데요 한 달동 안 공부 하면 제 가 ... 파이썬 을 공부 하신다고 하셨는데요 ~ 일단 냉정하게 ... 추가 적 으로 , 만약 주위 에 파이썬 관련 하여 전문가 가 ... limhg999.edueroom.co.kr 파이썬 독학 관련 해서 더 궁금하신 부분 이 ...',\n",
       " ' 파이썬 으로 stack 알고리즘 문제 를 백 준 에서 풀던 중 ... 파이썬 리스트 로 스택 을 구현 하려면 인덱스 0 을 top 으로 할지 ... 아 파이썬 3 사용 합니다 push 와 pop 은 은 스택 전용 명령어 죠 . 1 . 파이썬 리스트 에서는 push 가 없고 append 를 ...',\n",
       " ' 파이썬 공부 하면 뭐 할수있나요 만약 안된다면 파이썬 말고 더 공부 해야 할 건 뭔 지 알려주세요 ~~ 안녕하세요 !... 일단 간단하게 파이썬 에 대해 서 설명 해드리면 ... + 1 = 20 을 만드는 것 은 C 언 어이구 요 1 X 20 = 20 을 만드는 것 은 파이썬 이 ...',\n",
       " ' 파이썬 으로 프로그래밍 처음 입문 하려고 합니다 . 프로그래밍 입문 하려면 파이썬 이 좋다는 이야기 를 많이 ... 파이썬 을 공부 하신다고 하셨는데요 ~ 일단 냉정하게 ... 추가 적 으로 , 만약 주위 에 파이썬 관련 하여 전문가 가 있다면 , 그 ...',\n",
       " ' 파이썬 알고리즘 문제 푸는데요 이 코드 가 맞는 것 같고 실제 로 파이썬 프로그램 돌려 보면 잘 나오는데 아니라고 하네요 어떤 걸 바꿔야 하는 건가 요 ? 첫 줄 에 두 개 의 수가 입력 된다고 했는데 , 두 줄 에 ...',\n",
       " ' ... 파이썬 말고 더 공부 해야 할 건 뭔 지 알려주세요 ... 일단 간단하게 파이썬 에 대해 서 설명 해드리면 , 어려웠던 C 언어 의 ... 것 은 파이썬 이라고 생각 하시면 됩니다 . 동일한 값 을 내는데 간단하게 만들어 낼 수 있는 것 이 파이썬 ...',\n",
       " ' 파이썬 을 공부 하려고하는데요 한 달동 안 공부 하면 제 가 ... 파이썬 을 공부 하신다고 하셨는데요 ~ 일단 냉정하게 ... 추가 적 으로 , 만약 주위 에 파이썬 관련 하여 전문가 가 ... limhg999.edueroom.co.kr 파이썬 독학 관련 해서 더 궁금하신 부분 이 ...',\n",
       " ' 어렵지 않 개 초보자 들 도 보기 좋은 파이썬 인강 있나요 추천 부탁드려요 ! 안녕하세요 초보자 분들 이 보기 좋은 파이썬 인강 찾으시는 것 같습니다 . 파이썬 인강 을 고를 실 때 몇 ... 위 에 목록 에 전부 해당 되는 파이썬 인강 사이트 ...',\n",
       " ' ... 1 학기 에 파이썬 을 배우거든요 혹시 파이썬 강의 괜찮은 데 있을까요 ? 어딘지 도 좀 알려주세요 컴공 선배 님 들 ... 파이썬 강의 로 KG 에듀 원 이룸 추천 해드릴게요 대부분 파이썬 강의 들 은 별도 로 교재 를 구매 해야하는 경우 가 많은데 ...',\n",
       " ' 안녕하세요 파이썬 에 대해 공부 좀 할려고 하는데요 파이썬 관련 되어 기초 학원 있나요 ? 안녕하세요 kg 아이티 뱅크 ... 현재 질문 자 께서 안녕하세요 파이썬 에 대해 공부 좀 할려고 하는데요 파이썬 관련 되어 기초 학원 있나요 ? 라고 질문 을 ...',\n",
       " ' ... 파이썬 부터 시작 하는게 좋다하여 공부 해보려는데 쉡 게 파이썬 독학 하려면 어떤 방법 이 좋을까요 ?? 안녕하세요 파이썬 독학 을 어떻게 할지 고민 하고 계신 상황 이신 것 같습니다 . 파이썬 공부 를 처음 시작 하시는 거 라면 단순히 책 을 ...',\n",
       " ' 파이썬 에서 명령어 를 입력 하고 실행 했더니 이렇게 되내요 ㅠㅠ 어떻게 해야 할까 요 ? 파일 이름 ( turtle . py ) 을 다른 이름 으로 변경 하세요 . 모듈 이름 turtle 과 중복 되어 나오는 오류 입니다 . 정확하고 신속한 답변 을 원하십니까 ?...',\n",
       " ' 프로그래밍 언어 중 제일 쉬운것이 파이썬 독학 이라고 하는데요 그런데 학원 다니 기 에는 집안 사정 이 너무 어려워서 ... 현재 질문 자 께서 프로그래밍 언어 중 제일 쉬운것이 파이썬 독학 이라고 하는데요 그런데 학원 다니 기 에는 집안 ...',\n",
       " ' ... ㅠㅠ 파이썬 부터 먼저 공부 해도 상관없겠죠 ? 작성자 님 께서 궁금하신 부분 에 대해 답변 드리겠습니다 . 파이썬 을 ... 추가 적 으로 , 만약 주위 에 파이썬 관련 하여 전문가 가 ... limhg999.edueroom.co.kr 파이썬 독학 관련 해서 더 궁금하신 ...',\n",
       " ' ... 중 에 파이썬 이 입문 용 으로 좋고 조금 더 쉽다고 해서 먼저 배워 볼 생각 입니다 . 블록 형 코딩 ( 스크래치 , 엔트리 )... 투 파이썬 & gt ; 이나 & lt ; 혼자 공부 하는 파이썬 & gt ; 등 이 많이 나오던데 다 포함 해서 몇 권 추천 부탁드립니다 . 아직 파이썬 은 ...',\n",
       " ' 파이썬 을 독학 해보려고 합니다 . 한 달 정도 공부 하면 ... 파이썬 을 공부 하신다고 하셨는데요 ~ 일단 냉정하게 ... 추가 적 으로 , 만약 주위 에 파이썬 관련 하여 전문가 가 있다면 ... limhg999.edueroom.co.kr 파이썬 독학 관련 해서 더 궁금하신 ...',\n",
       " ' ... 순서 로 셀수 있는 시퀀스 가 있는 파이썬 라이브러리 를 컬렉션 이라고 ... https://cms2580.tistory.com/71 파이썬 - 컬렉션 1 . 리스트 ( List ) 1 . 리스트 는 여러 ... 파이썬 의 리스트 는 동 적 배열 ( Dynamic Array ) 로서 자유롭게 확장 할 수 있는 ...',\n",
       " ' 자기개발 용 으로 틈틈이 코딩 공부 해보려고 합니다 제 가 회사 에서는 컴퓨터 로 파이썬 강좌 를 볼 수 있는데 집 에는 ... 있는 파이썬 강좌 가 있을까요 ? 파이썬 강좌 로 KG 에듀 원 이룸 추천 해드릴게요 대부분 파이썬 강좌 들 은 별도 로 ...',\n",
       " ' 파이썬 을 기초 부터 공부 할려고 하는데 파이썬 을 기초 부터 잘 가르쳐주는 학원 알아보고 있습니다 . 지역 은 서울 ... 파이썬 처음 공부 하는 비 전공자 도 잘 따라갈 수 있게끔 교육 지도 해주는 파이썬 학원 정보 부탁드립니다 ....',\n",
       " ' ... 저 에게 파이썬 이 도움 이 될까 요 ?? ( 대학교 에서 C 언어 C ... 또한 재미 도 느꼈구요 .) 파이썬 이 떠오른 이유 는 다 들 ... 있는데 파이썬 이야기 를 자주 듣습니다 . ( 학부 생으로 서 ... ( HTML , 영상편집 등등 등등 ) 전자전 기와 파이썬 은 밀접하게 ...',\n",
       " ' 프로그래밍 을 배워 보려니까 C 언어 랑 파이썬 , 자바 등 되게 ... ( 더 바탕 은 기계어 지만 ) 자바 도 , 파이썬 도 C 로 만들어 ... 밟아라 파이썬 은 가 : 차 시동 을 걸어라 나 : 60 m 로 달려라 조금 다른 비유 로 따지면 C 는 수동 기어 파이 썬은 자동 ...',\n",
       " ' ... 파이썬 이라는 게 뭔가 요 ? 2 . 파이썬 을 잘 하면 어떻게 되는건 가요 ? 최대한 쉽게 설명 해주세요 채택 겁니다 ! 1 . 파이썬 ... 파이썬 은 외부 라이브러리 등 을 통해 엄청 많은 분야 를 지원 하고 있습니다 . 지금 도 계속 라이브러리 들이 업데이트 ...',\n",
       " ' 중학생 인데 파이썬 공부 해보려고 하는데 작품 따라 만들수 있는 참고서 나 ... 파이썬 은 외부 라이브러리 등 을 통해 엄청 많은 분야 를 지원 하고 ... 질문 하실 땐 사진 캡쳐 보다는 파이썬 코드 를 텍스트 로 캡쳐 하시던가 py 파일 을 ...',\n",
       " ' 과제 가 파이썬 인데 터틀 그래픽 을 사용 하려고 import turtle 을 쳤는데 저렇게만 나오고 다른 방법 도 다 해봤는데 ... ㅠㅠ 파이썬 을 다시 설치 해 보세요 . turtle . py 내 에서 pen () 을 호출 하다 오류 가 난 것 으로 보입니다 . 그리고 쉘 에서 ...',\n",
       " ' 파이썬 공부 할려는데 유튜브 강의 볼것 좀 알려주세요 ... 파이썬 은 외부 라이브러리 등 을 통해 엄청 많은 분야 를 지원 하고 있습니다 . 파이썬 은 지금 도 계속 라이브러리 ... 질문 하실 땐 사진 캡쳐 보다는 파이썬 코드 를 텍스트 로 캡쳐 ...',\n",
       " ' 파이썬 을 회사 업무 에 활용 할 수 있나요 ? 있다면 알려주세요 ... 파이썬 도 DB 를 다루긴 하지만 DB 용 으로 많이 쓰이진 앟습니 다 .... 파이썬 은 데이타 분석 이나 빅데이터 분석 등 에 많이 쓰입니다 . 파이썬 에는 다른언어 의 배열 에 비해 가변 적 인 ...',\n",
       " ' 파이썬 파일 을 바탕화면 에 저장 하고 바탕화면 에서 실행 하려는데 저장 된 파일 이 열리지를 않네요 원래 그런 건가 요 ?... 파이썬 IDLE 쉘 을 띠 우시 고 쉘 의 타이틀 의 file -& gt ; open 하시면 하시면 탐색기 가 열립니다 . 여기 서 바탕화면 -& gt ; 해당 ...',\n",
       " ' 파이썬 은 어디 이 쓰이나요 그리고 파이썬 공부 하려고 하는데 독학 으로도 가능할까 요 안녕하세요 . 진로 / 취업 / 교육 ... 파이썬 공부 에 대해 질문 남겨주셨는데요 , 우선 , 파이썬 은 홈페이지 개발 에 많이 쓰입니다 윈도우 실행 프로그램 을 ...',\n",
       " ' ... 컴퓨터 프로그래밍 배우려면 C 언어 부터 배워야 한다고 하지만 , 요새 는 파이썬 이 대 새 라고 하던데요 . 파이썬 학원 추 ... 파이썬 학원 추천 을 통해 서 파이썬 수업 을 받기를 희망 하시는 학생 인 듯 하여 제 가 도 와 드릴 수 있는 부분 은 자세히 ...',\n",
       " ' 안녕하세요 제 가 지금 사는 거주지 가 강남 인데 요 그 파이썬 이 요즘 대세 라고 ... 그 파이썬 이 요즘 대세 라고 해서 공부 를 해볼려고 하는데 저 혼자 독학 으로 ... 전문 교육 기관 인 많 큼 파이썬 은 당연히 배우겠죠 ? 그리고 IT 뿐 만 아닌 진학 ...',\n",
       " ' ... 제 가 파이썬 자격증 에 대해 서 찾아봤는데요 자격증 이 있나요 ? 파이썬 , 자바 공부 하고 싶은데 파이썬 ... 기업 마다 요구 하는 방식 은 다르겠지만 보통 은 포트폴리오 를 요구 하지 파이썬 자격증 을 요구 하지 않다라는 거 ...',\n",
       " ' ... 파이썬 이 입문 하기 좋다고 해서 먼저 공부 중 인데 파이썬 으로도 앱 개발 해서 서비스 를 할 수 있나요 ?? 파이썬 으로 ... 활발하죠 파이썬 은 모바일 환경 에서의 개발 에 적합하지 않다는 한계 점 을 갖고 있어 앱 개발 에는 적합하지 ...',\n",
       " ' 파이썬 언어 를 조금 해보았는데요 더 공부 를 하기도 싶고 아직 은 잘 몰라서 많이 알 기도 싶어서요 그래서 파이썬 코딩 은 어디 에 주로 쓰일까 요 ? 파이썬 공부 를 하시고 개발자 분야 로 도 가실 수 있습니다 . 어느 분야 든 프로그래밍 언어 ...',\n",
       " ' 파이썬 개발자 가 되고 싶은데요 파이썬 만 공부 하면 될까 요 ? 제목 그대로 에요 파이썬 으로 개발자 가 되고싶은데 파이썬 으로 할 수 있는 개발자 가 뭐 에요 ? 안녕하세요 ! 교육 전문 컨설턴트 임군 입니다 ^^ 궁금하신 부분 에 대해 ...',\n",
       " ' ... 파이썬 에서 이런 프로그램 을 만들 수 있을까요 ?... 안아 파이썬 으로 갈아탄지 2년 이 좀 안됬습니다 .... 포트란 이던 파이썬 이던 . a b c d e f g 이렇게 배열 되있는 ... 파이썬 에서 이런 프로그램 을 만들 수 있을까요 ? 넵 ! 정곡 을 ...',\n",
       " ' 이 거 파이썬 으로 풀어주세요 ㅠㅠ 다음 코드 를 보고 작성 해 보시기 바랍니다 . # This Python file uses the following encoding : utf - 8 # -*- coding : utf - 8 -*- i = 1 s = 0 while ( i & lt ;= 100 ): s += i if ( i % 10 == 0 ): print (& quot ; 1 ...',\n",
       " ' 파이썬 print 문 을 이용 해서 사진 속 하트 나오게 어떻게 하나요 ?? 내용 100 print 문 을 7 개 만들고 하트 모양 이 되도록 ★ 을 입력 하면 되죠 . ★ 는 ㅁ ( 미음 ) 을 입력 한 후 한자 를 눌러 리스트 에서 ...']"
      ]
     },
     "execution_count": 42,
     "metadata": {},
     "output_type": "execute_result"
    }
   ],
   "source": [
    "contents_for_vectorize = []\n",
    "\n",
    "for content in contents_tokens:\n",
    "    sentence = ''\n",
    "    for word in content:\n",
    "        sentence = sentence + ' ' + word\n",
    "        \n",
    "    contents_for_vectorize.append(sentence)\n",
    "    \n",
    "contents_for_vectorize"
   ]
  },
  {
   "cell_type": "markdown",
   "metadata": {},
   "source": [
    "### 결과"
   ]
  },
  {
   "cell_type": "code",
   "execution_count": 43,
   "metadata": {},
   "outputs": [
    {
     "data": {
      "text/plain": [
       "<100x1013 sparse matrix of type '<class 'numpy.int64'>'\n",
       "\twith 2360 stored elements in Compressed Sparse Row format>"
      ]
     },
     "execution_count": 43,
     "metadata": {},
     "output_type": "execute_result"
    }
   ],
   "source": [
    "X = vectorizer.fit_transform(contents_for_vectorize)\n",
    "X"
   ]
  },
  {
   "cell_type": "markdown",
   "metadata": {},
   "source": [
    "### 100개의 문장안에 1013개의 말뭉치"
   ]
  },
  {
   "cell_type": "code",
   "execution_count": 44,
   "metadata": {},
   "outputs": [
    {
     "data": {
      "text/plain": [
       "(100, 1013)"
      ]
     },
     "execution_count": 44,
     "metadata": {},
     "output_type": "execute_result"
    }
   ],
   "source": [
    "num_samples, num_features = X.shape\n",
    "num_samples, num_features"
   ]
  },
  {
   "cell_type": "markdown",
   "metadata": {},
   "source": [
    "### 벡터라이즈 결과"
   ]
  },
  {
   "cell_type": "code",
   "execution_count": 45,
   "metadata": {},
   "outputs": [
    {
     "data": {
      "text/plain": [
       "['032',\n",
       " '06',\n",
       " '10',\n",
       " '100',\n",
       " '15',\n",
       " '1회',\n",
       " '20',\n",
       " '2013',\n",
       " '2019',\n",
       " '24',\n",
       " '2년',\n",
       " '300',\n",
       " '40',\n",
       " '60',\n",
       " '71',\n",
       " 'aa',\n",
       " 'amp',\n",
       " 'append',\n",
       " 'array',\n",
       " 'as']"
      ]
     },
     "execution_count": 45,
     "metadata": {},
     "output_type": "execute_result"
    }
   ],
   "source": [
    "vectorizer.get_feature_names()[:20]"
   ]
  },
  {
   "cell_type": "markdown",
   "metadata": {},
   "source": [
    "### 유사도 측정할 테스트 문장"
   ]
  },
  {
   "cell_type": "code",
   "execution_count": 46,
   "metadata": {},
   "outputs": [
    {
     "data": {
      "text/plain": [
       "[' 파이썬 을 배우는데 좋은 방법 이 어떤 것 인지 추천 해주세요']"
      ]
     },
     "execution_count": 46,
     "metadata": {},
     "output_type": "execute_result"
    }
   ],
   "source": [
    "new_post = [\"파이썬을 배우는데 좋은 방법이 어떤 것인지 추천해주세요\"]\n",
    "new_post_tokens = [t.morphs(row) for row in new_post]\n",
    "\n",
    "new_post_for_vectorize = []\n",
    "\n",
    "for content in new_post_tokens:\n",
    "    sentence = ''\n",
    "    for word in content:\n",
    "        sentence = sentence + ' ' + word\n",
    "        \n",
    "    new_post_for_vectorize.append(sentence)\n",
    "    \n",
    "new_post_for_vectorize"
   ]
  },
  {
   "cell_type": "code",
   "execution_count": 47,
   "metadata": {},
   "outputs": [
    {
     "data": {
      "text/plain": [
       "array([[0, 0, 0, ..., 0, 0, 0]], dtype=int64)"
      ]
     },
     "execution_count": 47,
     "metadata": {},
     "output_type": "execute_result"
    }
   ],
   "source": [
    "new_post_vec = vectorizer.transform(new_post_for_vectorize)\n",
    "new_post_vec.toarray()"
   ]
  },
  {
   "cell_type": "markdown",
   "metadata": {},
   "source": [
    "### 유클리드 거리"
   ]
  },
  {
   "cell_type": "code",
   "execution_count": 48,
   "metadata": {},
   "outputs": [],
   "source": [
    "import scipy as sp\n",
    "\n",
    "def dist_raw(v1, v2):\n",
    "    delta = v1 - v2\n",
    "    return sp.linalg.norm(delta.toarray())"
   ]
  },
  {
   "cell_type": "code",
   "execution_count": 49,
   "metadata": {},
   "outputs": [
    {
     "data": {
      "text/plain": [
       "[6.855654600401044,\n",
       " 6.928203230275509,\n",
       " 7.14142842854285,\n",
       " 6.48074069840786,\n",
       " 8.0,\n",
       " 7.211102550927978,\n",
       " 6.708203932499369,\n",
       " 7.280109889280518,\n",
       " 6.082762530298219,\n",
       " 6.48074069840786,\n",
       " 6.6332495807108,\n",
       " 5.830951894845301,\n",
       " 7.0710678118654755,\n",
       " 6.782329983125268,\n",
       " 6.928203230275509,\n",
       " 6.708203932499369,\n",
       " 6.6332495807108,\n",
       " 7.14142842854285,\n",
       " 6.855654600401044,\n",
       " 6.6332495807108]"
      ]
     },
     "execution_count": 49,
     "metadata": {},
     "output_type": "execute_result"
    }
   ],
   "source": [
    "dist = [dist_raw(each, new_post_vec) for each in  X]\n",
    "dist[:20]"
   ]
  },
  {
   "cell_type": "markdown",
   "metadata": {},
   "source": [
    "### 테스트결과"
   ]
  },
  {
   "cell_type": "code",
   "execution_count": 50,
   "metadata": {},
   "outputs": [
    {
     "name": "stdout",
     "output_type": "stream",
     "text": [
      "Best post is  67 , dist =  5.0\n",
      "test post is --> ['파이썬을 배우는데 좋은 방법이 어떤 것인지 추천해주세요']\n",
      "best dist post is --> 파이썬 알고리즘 문제 푸는데요 이 코드가 맞는 것 같고 실제로 파이썬 프로그램 돌려보면 잘 나오는데 아니라고 하네요 어떤 걸 바꿔야 하는 건가요? 첫줄에 두개의 수가 입력 된다고 했는데, 두 줄에... \n"
     ]
    }
   ],
   "source": [
    "print(\"Best post is \", dist.index(min(dist)), \", dist = \", min(dist))\n",
    "print(\"test post is -->\", new_post)\n",
    "print(\"best dist post is -->\", contents[dist.index(min(dist))])"
   ]
  },
  {
   "cell_type": "markdown",
   "metadata": {},
   "source": [
    "### 거리를 구하는 다른방법 normalize"
   ]
  },
  {
   "cell_type": "code",
   "execution_count": 51,
   "metadata": {},
   "outputs": [],
   "source": [
    "def dist_norm(v1, v2):\n",
    "    v1_normalized = v1 / sp.linalg.norm(v1.toarray())\n",
    "    v2_normalized = v2 / sp.linalg.norm(v2.toarray())\n",
    "    \n",
    "    delta = v1_normalized - v2_normalized\n",
    "    \n",
    "    return sp.linalg.norm(delta.toarray())"
   ]
  },
  {
   "cell_type": "code",
   "execution_count": 52,
   "metadata": {},
   "outputs": [
    {
     "name": "stdout",
     "output_type": "stream",
     "text": [
      "Best post is  67 , dist =  5.0\n",
      "test post is --> ['파이썬을 배우는데 좋은 방법이 어떤 것인지 추천해주세요']\n",
      "best dist post is --> 파이썬 알고리즘 문제 푸는데요 이 코드가 맞는 것 같고 실제로 파이썬 프로그램 돌려보면 잘 나오는데 아니라고 하네요 어떤 걸 바꿔야 하는 건가요? 첫줄에 두개의 수가 입력 된다고 했는데, 두 줄에... \n"
     ]
    }
   ],
   "source": [
    "dist = [dist_raw(each, new_post_vec) for each in  X]\n",
    "print(\"Best post is \", dist.index(min(dist)), \", dist = \", min(dist))\n",
    "print(\"test post is -->\", new_post)\n",
    "print(\"best dist post is -->\", contents[dist.index(min(dist))])"
   ]
  },
  {
   "cell_type": "markdown",
   "metadata": {},
   "source": [
    "### Tfidf"
   ]
  },
  {
   "cell_type": "code",
   "execution_count": 53,
   "metadata": {},
   "outputs": [],
   "source": [
    "def tfidf(t, d, D):\n",
    "    tf = float(d.count(t)) / sum(d.count(w) for w in set(d))\n",
    "    idf = sp.log( float(len(D))/(len([doc for doc in D if t in doc])) )\n",
    "    return tf*idf"
   ]
  },
  {
   "cell_type": "code",
   "execution_count": 54,
   "metadata": {},
   "outputs": [],
   "source": [
    "from sklearn.feature_extraction.text import TfidfVectorizer\n",
    "vectorizer = TfidfVectorizer(min_df=1, decode_error='ignore')\n"
   ]
  },
  {
   "cell_type": "code",
   "execution_count": 55,
   "metadata": {},
   "outputs": [
    {
     "data": {
      "text/plain": [
       "(100, 1013)"
      ]
     },
     "execution_count": 55,
     "metadata": {},
     "output_type": "execute_result"
    }
   ],
   "source": [
    "X = vectorizer.fit_transform(contents_for_vectorize)\n",
    "num_samples, num_features = X.shape\n",
    "num_samples, num_features"
   ]
  },
  {
   "cell_type": "code",
   "execution_count": 56,
   "metadata": {},
   "outputs": [
    {
     "data": {
      "text/plain": [
       "array([[0., 0., 0., ..., 0., 0., 0.]])"
      ]
     },
     "execution_count": 56,
     "metadata": {},
     "output_type": "execute_result"
    }
   ],
   "source": [
    "new_post_vec = vectorizer.transform(new_post_for_vectorize)\n",
    "new_post_vec.toarray()"
   ]
  },
  {
   "cell_type": "code",
   "execution_count": 57,
   "metadata": {},
   "outputs": [
    {
     "name": "stdout",
     "output_type": "stream",
     "text": [
      "Best post is  60 , dist =  1.1870760643360017\n",
      "test post is --> ['파이썬을 배우는데 좋은 방법이 어떤 것인지 추천해주세요']\n",
      "best dist post is --> 프로그래밍 입문할 땐 파이썬이 좋다고 해서 파이썬 독학해보려고 하는데요 어떤 식으로 독학 시작해야할지 감이 안오네요 파이썬 독학하는 방법 추천좀 해주세요 보통 파이썬 독학은 인강으로 많이 하는 편이에요 파이썬 독학... \n"
     ]
    }
   ],
   "source": [
    "dist = [dist_raw(each, new_post_vec) for each in  X]\n",
    "print(\"Best post is \", dist.index(min(dist)), \", dist = \", min(dist))\n",
    "print(\"test post is -->\", new_post)\n",
    "print(\"best dist post is -->\", contents[dist.index(min(dist))])"
   ]
  },
  {
   "cell_type": "code",
   "execution_count": 65,
   "metadata": {},
   "outputs": [
    {
     "name": "stdout",
     "output_type": "stream",
     "text": [
      "[2020-04-20 13:58:59.380728] Url Request Success\n"
     ]
    }
   ],
   "source": [
    "client_id = 'uCFS2FeQh0Hd5Ljzztue'\n",
    "client_secret ='Jew0Xamv_h'\n",
    " \n",
    "url = gen_search_url('book', '파이썬', 1, 100)\n",
    "one_result = get_result_onpage(url)\n"
   ]
  },
  {
   "cell_type": "code",
   "execution_count": 66,
   "metadata": {},
   "outputs": [
    {
     "data": {
      "text/html": [
       "<div>\n",
       "<style scoped>\n",
       "    .dataframe tbody tr th:only-of-type {\n",
       "        vertical-align: middle;\n",
       "    }\n",
       "\n",
       "    .dataframe tbody tr th {\n",
       "        vertical-align: top;\n",
       "    }\n",
       "\n",
       "    .dataframe thead th {\n",
       "        text-align: right;\n",
       "    }\n",
       "</style>\n",
       "<table border=\"1\" class=\"dataframe\">\n",
       "  <thead>\n",
       "    <tr style=\"text-align: right;\">\n",
       "      <th></th>\n",
       "      <th>lastBuildDate</th>\n",
       "      <th>total</th>\n",
       "      <th>start</th>\n",
       "      <th>display</th>\n",
       "      <th>items</th>\n",
       "    </tr>\n",
       "  </thead>\n",
       "  <tbody>\n",
       "    <tr>\n",
       "      <td>0</td>\n",
       "      <td>Mon, 20 Apr 2020 13:58:26 +0900</td>\n",
       "      <td>1034</td>\n",
       "      <td>1</td>\n",
       "      <td>100</td>\n",
       "      <td>{'title': '&lt;b&gt;파이썬&lt;/b&gt; (비전공자를위한 &lt;b&gt;파이썬&lt;/b&gt; 기초 입...</td>\n",
       "    </tr>\n",
       "    <tr>\n",
       "      <td>1</td>\n",
       "      <td>Mon, 20 Apr 2020 13:58:26 +0900</td>\n",
       "      <td>1034</td>\n",
       "      <td>1</td>\n",
       "      <td>100</td>\n",
       "      <td>{'title': '혼자 공부하는 &lt;b&gt;파이썬&lt;/b&gt; (&lt;b&gt;파이썬&lt;/b&gt; 최신 버...</td>\n",
       "    </tr>\n",
       "    <tr>\n",
       "      <td>2</td>\n",
       "      <td>Mon, 20 Apr 2020 13:58:26 +0900</td>\n",
       "      <td>1034</td>\n",
       "      <td>1</td>\n",
       "      <td>100</td>\n",
       "      <td>{'title': '모두의 &lt;b&gt;파이썬&lt;/b&gt; (20일 만에 배우는 프로그래밍 기초...</td>\n",
       "    </tr>\n",
       "    <tr>\n",
       "      <td>3</td>\n",
       "      <td>Mon, 20 Apr 2020 13:58:26 +0900</td>\n",
       "      <td>1034</td>\n",
       "      <td>1</td>\n",
       "      <td>100</td>\n",
       "      <td>{'title': '&lt;b&gt;파이썬&lt;/b&gt;으로 데이터 주무르기 (독특한 예제를 통해 배...</td>\n",
       "    </tr>\n",
       "    <tr>\n",
       "      <td>4</td>\n",
       "      <td>Mon, 20 Apr 2020 13:58:26 +0900</td>\n",
       "      <td>1034</td>\n",
       "      <td>1</td>\n",
       "      <td>100</td>\n",
       "      <td>{'title': 'Do it! 점프 투 &lt;b&gt;파이썬&lt;/b&gt;', 'link': 'h...</td>\n",
       "    </tr>\n",
       "    <tr>\n",
       "      <td>...</td>\n",
       "      <td>...</td>\n",
       "      <td>...</td>\n",
       "      <td>...</td>\n",
       "      <td>...</td>\n",
       "      <td>...</td>\n",
       "    </tr>\n",
       "    <tr>\n",
       "      <td>95</td>\n",
       "      <td>Mon, 20 Apr 2020 13:58:26 +0900</td>\n",
       "      <td>1034</td>\n",
       "      <td>1</td>\n",
       "      <td>100</td>\n",
       "      <td>{'title': '모두의 데이터 과학 with &lt;b&gt;파이썬&lt;/b&gt; (수집 정리 탐...</td>\n",
       "    </tr>\n",
       "    <tr>\n",
       "      <td>96</td>\n",
       "      <td>Mon, 20 Apr 2020 13:58:26 +0900</td>\n",
       "      <td>1034</td>\n",
       "      <td>1</td>\n",
       "      <td>100</td>\n",
       "      <td>{'title': '&lt;b&gt;파이썬&lt;/b&gt;을 이용한 통계적 머신러닝', 'link': ...</td>\n",
       "    </tr>\n",
       "    <tr>\n",
       "      <td>97</td>\n",
       "      <td>Mon, 20 Apr 2020 13:58:26 +0900</td>\n",
       "      <td>1034</td>\n",
       "      <td>1</td>\n",
       "      <td>100</td>\n",
       "      <td>{'title': '&lt;b&gt;파이썬&lt;/b&gt; 프로그래밍 교과서', 'link': 'htt...</td>\n",
       "    </tr>\n",
       "    <tr>\n",
       "      <td>98</td>\n",
       "      <td>Mon, 20 Apr 2020 13:58:26 +0900</td>\n",
       "      <td>1034</td>\n",
       "      <td>1</td>\n",
       "      <td>100</td>\n",
       "      <td>{'title': '모던 &lt;b&gt;파이썬&lt;/b&gt; 입문 (프로그래밍, 시작은 &lt;b&gt;파이썬...</td>\n",
       "    </tr>\n",
       "    <tr>\n",
       "      <td>99</td>\n",
       "      <td>Mon, 20 Apr 2020 13:58:26 +0900</td>\n",
       "      <td>1034</td>\n",
       "      <td>1</td>\n",
       "      <td>100</td>\n",
       "      <td>{'title': '&lt;b&gt;파이썬&lt;/b&gt;을 활용한 크롤러 개발과 스크레이핑 입문 (크...</td>\n",
       "    </tr>\n",
       "  </tbody>\n",
       "</table>\n",
       "<p>100 rows × 5 columns</p>\n",
       "</div>"
      ],
      "text/plain": [
       "                      lastBuildDate  total  start  display  \\\n",
       "0   Mon, 20 Apr 2020 13:58:26 +0900   1034      1      100   \n",
       "1   Mon, 20 Apr 2020 13:58:26 +0900   1034      1      100   \n",
       "2   Mon, 20 Apr 2020 13:58:26 +0900   1034      1      100   \n",
       "3   Mon, 20 Apr 2020 13:58:26 +0900   1034      1      100   \n",
       "4   Mon, 20 Apr 2020 13:58:26 +0900   1034      1      100   \n",
       "..                              ...    ...    ...      ...   \n",
       "95  Mon, 20 Apr 2020 13:58:26 +0900   1034      1      100   \n",
       "96  Mon, 20 Apr 2020 13:58:26 +0900   1034      1      100   \n",
       "97  Mon, 20 Apr 2020 13:58:26 +0900   1034      1      100   \n",
       "98  Mon, 20 Apr 2020 13:58:26 +0900   1034      1      100   \n",
       "99  Mon, 20 Apr 2020 13:58:26 +0900   1034      1      100   \n",
       "\n",
       "                                                items  \n",
       "0   {'title': '<b>파이썬</b> (비전공자를위한 <b>파이썬</b> 기초 입...  \n",
       "1   {'title': '혼자 공부하는 <b>파이썬</b> (<b>파이썬</b> 최신 버...  \n",
       "2   {'title': '모두의 <b>파이썬</b> (20일 만에 배우는 프로그래밍 기초...  \n",
       "3   {'title': '<b>파이썬</b>으로 데이터 주무르기 (독특한 예제를 통해 배...  \n",
       "4   {'title': 'Do it! 점프 투 <b>파이썬</b>', 'link': 'h...  \n",
       "..                                                ...  \n",
       "95  {'title': '모두의 데이터 과학 with <b>파이썬</b> (수집 정리 탐...  \n",
       "96  {'title': '<b>파이썬</b>을 이용한 통계적 머신러닝', 'link': ...  \n",
       "97  {'title': '<b>파이썬</b> 프로그래밍 교과서', 'link': 'htt...  \n",
       "98  {'title': '모던 <b>파이썬</b> 입문 (프로그래밍, 시작은 <b>파이썬...  \n",
       "99  {'title': '<b>파이썬</b>을 활용한 크롤러 개발과 스크레이핑 입문 (크...  \n",
       "\n",
       "[100 rows x 5 columns]"
      ]
     },
     "execution_count": 66,
     "metadata": {},
     "output_type": "execute_result"
    }
   ],
   "source": [
    "pd.DataFrame(one_result)"
   ]
  },
  {
   "cell_type": "code",
   "execution_count": null,
   "metadata": {},
   "outputs": [],
   "source": []
  }
 ],
 "metadata": {
  "kernelspec": {
   "display_name": "Python 3",
   "language": "python",
   "name": "python3"
  },
  "language_info": {
   "codemirror_mode": {
    "name": "ipython",
    "version": 3
   },
   "file_extension": ".py",
   "mimetype": "text/x-python",
   "name": "python",
   "nbconvert_exporter": "python",
   "pygments_lexer": "ipython3",
   "version": "3.7.4"
  }
 },
 "nbformat": 4,
 "nbformat_minor": 2
}
